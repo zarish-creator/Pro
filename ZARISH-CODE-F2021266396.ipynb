{
 "cells": [
  {
   "cell_type": "code",
   "execution_count": 1,
   "id": "1b94efc4",
   "metadata": {
    "_cell_guid": "b1076dfc-b9ad-4769-8c92-a6c4dae69d19",
    "_uuid": "8f2839f25d086af736a60e9eeb907d3b93b6e0e5",
    "execution": {
     "iopub.execute_input": "2024-06-20T06:22:34.060289Z",
     "iopub.status.busy": "2024-06-20T06:22:34.059908Z",
     "iopub.status.idle": "2024-06-20T06:22:34.874953Z",
     "shell.execute_reply": "2024-06-20T06:22:34.873613Z"
    },
    "papermill": {
     "duration": 0.832839,
     "end_time": "2024-06-20T06:22:34.877598",
     "exception": false,
     "start_time": "2024-06-20T06:22:34.044759",
     "status": "completed"
    },
    "tags": []
   },
   "outputs": [],
   "source": [
    "import pandas as pd "
   ]
  },
  {
   "cell_type": "markdown",
   "id": "7fc15321",
   "metadata": {
    "papermill": {
     "duration": 0.01218,
     "end_time": "2024-06-20T06:22:34.903386",
     "exception": false,
     "start_time": "2024-06-20T06:22:34.891206",
     "status": "completed"
    },
    "tags": []
   },
   "source": [
    "# Data Gathering"
   ]
  },
  {
   "cell_type": "code",
   "execution_count": 2,
   "id": "aa1eb6b8",
   "metadata": {
    "execution": {
     "iopub.execute_input": "2024-06-20T06:22:34.929904Z",
     "iopub.status.busy": "2024-06-20T06:22:34.929407Z",
     "iopub.status.idle": "2024-06-20T06:22:35.057200Z",
     "shell.execute_reply": "2024-06-20T06:22:35.056182Z"
    },
    "papermill": {
     "duration": 0.143956,
     "end_time": "2024-06-20T06:22:35.059651",
     "exception": false,
     "start_time": "2024-06-20T06:22:34.915695",
     "status": "completed"
    },
    "tags": []
   },
   "outputs": [],
   "source": [
    "df=pd.read_csv(\"/kaggle/input/netflix-shows/netflix_titles.csv\")"
   ]
  },
  {
   "cell_type": "code",
   "execution_count": 3,
   "id": "79be792b",
   "metadata": {
    "execution": {
     "iopub.execute_input": "2024-06-20T06:22:35.086261Z",
     "iopub.status.busy": "2024-06-20T06:22:35.085887Z",
     "iopub.status.idle": "2024-06-20T06:22:35.092839Z",
     "shell.execute_reply": "2024-06-20T06:22:35.091941Z"
    },
    "papermill": {
     "duration": 0.022866,
     "end_time": "2024-06-20T06:22:35.095118",
     "exception": false,
     "start_time": "2024-06-20T06:22:35.072252",
     "status": "completed"
    },
    "tags": []
   },
   "outputs": [
    {
     "data": {
      "text/plain": [
       "(8807, 12)"
      ]
     },
     "execution_count": 3,
     "metadata": {},
     "output_type": "execute_result"
    }
   ],
   "source": [
    "df.shape"
   ]
  },
  {
   "cell_type": "markdown",
   "id": "1e79ea61",
   "metadata": {
    "papermill": {
     "duration": 0.012331,
     "end_time": "2024-06-20T06:22:35.120908",
     "exception": false,
     "start_time": "2024-06-20T06:22:35.108577",
     "status": "completed"
    },
    "tags": []
   },
   "source": [
    "# Data Assessment"
   ]
  },
  {
   "cell_type": "code",
   "execution_count": 4,
   "id": "a07871e1",
   "metadata": {
    "execution": {
     "iopub.execute_input": "2024-06-20T06:22:35.147612Z",
     "iopub.status.busy": "2024-06-20T06:22:35.147261Z",
     "iopub.status.idle": "2024-06-20T06:22:35.171432Z",
     "shell.execute_reply": "2024-06-20T06:22:35.170487Z"
    },
    "papermill": {
     "duration": 0.040298,
     "end_time": "2024-06-20T06:22:35.173663",
     "exception": false,
     "start_time": "2024-06-20T06:22:35.133365",
     "status": "completed"
    },
    "tags": []
   },
   "outputs": [
    {
     "data": {
      "text/html": [
       "<div>\n",
       "<style scoped>\n",
       "    .dataframe tbody tr th:only-of-type {\n",
       "        vertical-align: middle;\n",
       "    }\n",
       "\n",
       "    .dataframe tbody tr th {\n",
       "        vertical-align: top;\n",
       "    }\n",
       "\n",
       "    .dataframe thead th {\n",
       "        text-align: right;\n",
       "    }\n",
       "</style>\n",
       "<table border=\"1\" class=\"dataframe\">\n",
       "  <thead>\n",
       "    <tr style=\"text-align: right;\">\n",
       "      <th></th>\n",
       "      <th>show_id</th>\n",
       "      <th>type</th>\n",
       "      <th>title</th>\n",
       "      <th>director</th>\n",
       "      <th>cast</th>\n",
       "      <th>country</th>\n",
       "      <th>date_added</th>\n",
       "      <th>release_year</th>\n",
       "      <th>rating</th>\n",
       "      <th>duration</th>\n",
       "      <th>listed_in</th>\n",
       "      <th>description</th>\n",
       "    </tr>\n",
       "  </thead>\n",
       "  <tbody>\n",
       "    <tr>\n",
       "      <th>0</th>\n",
       "      <td>s1</td>\n",
       "      <td>Movie</td>\n",
       "      <td>Dick Johnson Is Dead</td>\n",
       "      <td>Kirsten Johnson</td>\n",
       "      <td>NaN</td>\n",
       "      <td>United States</td>\n",
       "      <td>September 25, 2021</td>\n",
       "      <td>2020</td>\n",
       "      <td>PG-13</td>\n",
       "      <td>90 min</td>\n",
       "      <td>Documentaries</td>\n",
       "      <td>As her father nears the end of his life, filmm...</td>\n",
       "    </tr>\n",
       "    <tr>\n",
       "      <th>1</th>\n",
       "      <td>s2</td>\n",
       "      <td>TV Show</td>\n",
       "      <td>Blood &amp; Water</td>\n",
       "      <td>NaN</td>\n",
       "      <td>Ama Qamata, Khosi Ngema, Gail Mabalane, Thaban...</td>\n",
       "      <td>South Africa</td>\n",
       "      <td>September 24, 2021</td>\n",
       "      <td>2021</td>\n",
       "      <td>TV-MA</td>\n",
       "      <td>2 Seasons</td>\n",
       "      <td>International TV Shows, TV Dramas, TV Mysteries</td>\n",
       "      <td>After crossing paths at a party, a Cape Town t...</td>\n",
       "    </tr>\n",
       "    <tr>\n",
       "      <th>2</th>\n",
       "      <td>s3</td>\n",
       "      <td>TV Show</td>\n",
       "      <td>Ganglands</td>\n",
       "      <td>Julien Leclercq</td>\n",
       "      <td>Sami Bouajila, Tracy Gotoas, Samuel Jouy, Nabi...</td>\n",
       "      <td>NaN</td>\n",
       "      <td>September 24, 2021</td>\n",
       "      <td>2021</td>\n",
       "      <td>TV-MA</td>\n",
       "      <td>1 Season</td>\n",
       "      <td>Crime TV Shows, International TV Shows, TV Act...</td>\n",
       "      <td>To protect his family from a powerful drug lor...</td>\n",
       "    </tr>\n",
       "    <tr>\n",
       "      <th>3</th>\n",
       "      <td>s4</td>\n",
       "      <td>TV Show</td>\n",
       "      <td>Jailbirds New Orleans</td>\n",
       "      <td>NaN</td>\n",
       "      <td>NaN</td>\n",
       "      <td>NaN</td>\n",
       "      <td>September 24, 2021</td>\n",
       "      <td>2021</td>\n",
       "      <td>TV-MA</td>\n",
       "      <td>1 Season</td>\n",
       "      <td>Docuseries, Reality TV</td>\n",
       "      <td>Feuds, flirtations and toilet talk go down amo...</td>\n",
       "    </tr>\n",
       "    <tr>\n",
       "      <th>4</th>\n",
       "      <td>s5</td>\n",
       "      <td>TV Show</td>\n",
       "      <td>Kota Factory</td>\n",
       "      <td>NaN</td>\n",
       "      <td>Mayur More, Jitendra Kumar, Ranjan Raj, Alam K...</td>\n",
       "      <td>India</td>\n",
       "      <td>September 24, 2021</td>\n",
       "      <td>2021</td>\n",
       "      <td>TV-MA</td>\n",
       "      <td>2 Seasons</td>\n",
       "      <td>International TV Shows, Romantic TV Shows, TV ...</td>\n",
       "      <td>In a city of coaching centers known to train I...</td>\n",
       "    </tr>\n",
       "  </tbody>\n",
       "</table>\n",
       "</div>"
      ],
      "text/plain": [
       "  show_id     type                  title         director  \\\n",
       "0      s1    Movie   Dick Johnson Is Dead  Kirsten Johnson   \n",
       "1      s2  TV Show          Blood & Water              NaN   \n",
       "2      s3  TV Show              Ganglands  Julien Leclercq   \n",
       "3      s4  TV Show  Jailbirds New Orleans              NaN   \n",
       "4      s5  TV Show           Kota Factory              NaN   \n",
       "\n",
       "                                                cast        country  \\\n",
       "0                                                NaN  United States   \n",
       "1  Ama Qamata, Khosi Ngema, Gail Mabalane, Thaban...   South Africa   \n",
       "2  Sami Bouajila, Tracy Gotoas, Samuel Jouy, Nabi...            NaN   \n",
       "3                                                NaN            NaN   \n",
       "4  Mayur More, Jitendra Kumar, Ranjan Raj, Alam K...          India   \n",
       "\n",
       "           date_added  release_year rating   duration  \\\n",
       "0  September 25, 2021          2020  PG-13     90 min   \n",
       "1  September 24, 2021          2021  TV-MA  2 Seasons   \n",
       "2  September 24, 2021          2021  TV-MA   1 Season   \n",
       "3  September 24, 2021          2021  TV-MA   1 Season   \n",
       "4  September 24, 2021          2021  TV-MA  2 Seasons   \n",
       "\n",
       "                                           listed_in  \\\n",
       "0                                      Documentaries   \n",
       "1    International TV Shows, TV Dramas, TV Mysteries   \n",
       "2  Crime TV Shows, International TV Shows, TV Act...   \n",
       "3                             Docuseries, Reality TV   \n",
       "4  International TV Shows, Romantic TV Shows, TV ...   \n",
       "\n",
       "                                         description  \n",
       "0  As her father nears the end of his life, filmm...  \n",
       "1  After crossing paths at a party, a Cape Town t...  \n",
       "2  To protect his family from a powerful drug lor...  \n",
       "3  Feuds, flirtations and toilet talk go down amo...  \n",
       "4  In a city of coaching centers known to train I...  "
      ]
     },
     "execution_count": 4,
     "metadata": {},
     "output_type": "execute_result"
    }
   ],
   "source": [
    "df.head()"
   ]
  },
  {
   "cell_type": "code",
   "execution_count": 5,
   "id": "2863ee66",
   "metadata": {
    "execution": {
     "iopub.execute_input": "2024-06-20T06:22:35.201737Z",
     "iopub.status.busy": "2024-06-20T06:22:35.201382Z",
     "iopub.status.idle": "2024-06-20T06:22:35.228960Z",
     "shell.execute_reply": "2024-06-20T06:22:35.227699Z"
    },
    "papermill": {
     "duration": 0.045053,
     "end_time": "2024-06-20T06:22:35.231833",
     "exception": false,
     "start_time": "2024-06-20T06:22:35.186780",
     "status": "completed"
    },
    "tags": []
   },
   "outputs": [
    {
     "name": "stdout",
     "output_type": "stream",
     "text": [
      "<class 'pandas.core.frame.DataFrame'>\n",
      "RangeIndex: 8807 entries, 0 to 8806\n",
      "Data columns (total 12 columns):\n",
      " #   Column        Non-Null Count  Dtype \n",
      "---  ------        --------------  ----- \n",
      " 0   show_id       8807 non-null   object\n",
      " 1   type          8807 non-null   object\n",
      " 2   title         8807 non-null   object\n",
      " 3   director      6173 non-null   object\n",
      " 4   cast          7982 non-null   object\n",
      " 5   country       7976 non-null   object\n",
      " 6   date_added    8797 non-null   object\n",
      " 7   release_year  8807 non-null   int64 \n",
      " 8   rating        8803 non-null   object\n",
      " 9   duration      8804 non-null   object\n",
      " 10  listed_in     8807 non-null   object\n",
      " 11  description   8807 non-null   object\n",
      "dtypes: int64(1), object(11)\n",
      "memory usage: 825.8+ KB\n"
     ]
    }
   ],
   "source": [
    "df.info()"
   ]
  },
  {
   "cell_type": "code",
   "execution_count": 6,
   "id": "d465d37d",
   "metadata": {
    "execution": {
     "iopub.execute_input": "2024-06-20T06:22:35.260513Z",
     "iopub.status.busy": "2024-06-20T06:22:35.259771Z",
     "iopub.status.idle": "2024-06-20T06:22:35.326073Z",
     "shell.execute_reply": "2024-06-20T06:22:35.325077Z"
    },
    "papermill": {
     "duration": 0.082858,
     "end_time": "2024-06-20T06:22:35.328207",
     "exception": false,
     "start_time": "2024-06-20T06:22:35.245349",
     "status": "completed"
    },
    "tags": []
   },
   "outputs": [
    {
     "data": {
      "text/html": [
       "<div>\n",
       "<style scoped>\n",
       "    .dataframe tbody tr th:only-of-type {\n",
       "        vertical-align: middle;\n",
       "    }\n",
       "\n",
       "    .dataframe tbody tr th {\n",
       "        vertical-align: top;\n",
       "    }\n",
       "\n",
       "    .dataframe thead th {\n",
       "        text-align: right;\n",
       "    }\n",
       "</style>\n",
       "<table border=\"1\" class=\"dataframe\">\n",
       "  <thead>\n",
       "    <tr style=\"text-align: right;\">\n",
       "      <th></th>\n",
       "      <th>show_id</th>\n",
       "      <th>type</th>\n",
       "      <th>title</th>\n",
       "      <th>director</th>\n",
       "      <th>cast</th>\n",
       "      <th>country</th>\n",
       "      <th>date_added</th>\n",
       "      <th>release_year</th>\n",
       "      <th>rating</th>\n",
       "      <th>duration</th>\n",
       "      <th>listed_in</th>\n",
       "      <th>description</th>\n",
       "    </tr>\n",
       "  </thead>\n",
       "  <tbody>\n",
       "    <tr>\n",
       "      <th>count</th>\n",
       "      <td>8807</td>\n",
       "      <td>8807</td>\n",
       "      <td>8807</td>\n",
       "      <td>6173</td>\n",
       "      <td>7982</td>\n",
       "      <td>7976</td>\n",
       "      <td>8797</td>\n",
       "      <td>8807.000000</td>\n",
       "      <td>8803</td>\n",
       "      <td>8804</td>\n",
       "      <td>8807</td>\n",
       "      <td>8807</td>\n",
       "    </tr>\n",
       "    <tr>\n",
       "      <th>unique</th>\n",
       "      <td>8807</td>\n",
       "      <td>2</td>\n",
       "      <td>8807</td>\n",
       "      <td>4528</td>\n",
       "      <td>7692</td>\n",
       "      <td>748</td>\n",
       "      <td>1767</td>\n",
       "      <td>NaN</td>\n",
       "      <td>17</td>\n",
       "      <td>220</td>\n",
       "      <td>514</td>\n",
       "      <td>8775</td>\n",
       "    </tr>\n",
       "    <tr>\n",
       "      <th>top</th>\n",
       "      <td>s1</td>\n",
       "      <td>Movie</td>\n",
       "      <td>Dick Johnson Is Dead</td>\n",
       "      <td>Rajiv Chilaka</td>\n",
       "      <td>David Attenborough</td>\n",
       "      <td>United States</td>\n",
       "      <td>January 1, 2020</td>\n",
       "      <td>NaN</td>\n",
       "      <td>TV-MA</td>\n",
       "      <td>1 Season</td>\n",
       "      <td>Dramas, International Movies</td>\n",
       "      <td>Paranormal activity at a lush, abandoned prope...</td>\n",
       "    </tr>\n",
       "    <tr>\n",
       "      <th>freq</th>\n",
       "      <td>1</td>\n",
       "      <td>6131</td>\n",
       "      <td>1</td>\n",
       "      <td>19</td>\n",
       "      <td>19</td>\n",
       "      <td>2818</td>\n",
       "      <td>109</td>\n",
       "      <td>NaN</td>\n",
       "      <td>3207</td>\n",
       "      <td>1793</td>\n",
       "      <td>362</td>\n",
       "      <td>4</td>\n",
       "    </tr>\n",
       "    <tr>\n",
       "      <th>mean</th>\n",
       "      <td>NaN</td>\n",
       "      <td>NaN</td>\n",
       "      <td>NaN</td>\n",
       "      <td>NaN</td>\n",
       "      <td>NaN</td>\n",
       "      <td>NaN</td>\n",
       "      <td>NaN</td>\n",
       "      <td>2014.180198</td>\n",
       "      <td>NaN</td>\n",
       "      <td>NaN</td>\n",
       "      <td>NaN</td>\n",
       "      <td>NaN</td>\n",
       "    </tr>\n",
       "    <tr>\n",
       "      <th>std</th>\n",
       "      <td>NaN</td>\n",
       "      <td>NaN</td>\n",
       "      <td>NaN</td>\n",
       "      <td>NaN</td>\n",
       "      <td>NaN</td>\n",
       "      <td>NaN</td>\n",
       "      <td>NaN</td>\n",
       "      <td>8.819312</td>\n",
       "      <td>NaN</td>\n",
       "      <td>NaN</td>\n",
       "      <td>NaN</td>\n",
       "      <td>NaN</td>\n",
       "    </tr>\n",
       "    <tr>\n",
       "      <th>min</th>\n",
       "      <td>NaN</td>\n",
       "      <td>NaN</td>\n",
       "      <td>NaN</td>\n",
       "      <td>NaN</td>\n",
       "      <td>NaN</td>\n",
       "      <td>NaN</td>\n",
       "      <td>NaN</td>\n",
       "      <td>1925.000000</td>\n",
       "      <td>NaN</td>\n",
       "      <td>NaN</td>\n",
       "      <td>NaN</td>\n",
       "      <td>NaN</td>\n",
       "    </tr>\n",
       "    <tr>\n",
       "      <th>25%</th>\n",
       "      <td>NaN</td>\n",
       "      <td>NaN</td>\n",
       "      <td>NaN</td>\n",
       "      <td>NaN</td>\n",
       "      <td>NaN</td>\n",
       "      <td>NaN</td>\n",
       "      <td>NaN</td>\n",
       "      <td>2013.000000</td>\n",
       "      <td>NaN</td>\n",
       "      <td>NaN</td>\n",
       "      <td>NaN</td>\n",
       "      <td>NaN</td>\n",
       "    </tr>\n",
       "    <tr>\n",
       "      <th>50%</th>\n",
       "      <td>NaN</td>\n",
       "      <td>NaN</td>\n",
       "      <td>NaN</td>\n",
       "      <td>NaN</td>\n",
       "      <td>NaN</td>\n",
       "      <td>NaN</td>\n",
       "      <td>NaN</td>\n",
       "      <td>2017.000000</td>\n",
       "      <td>NaN</td>\n",
       "      <td>NaN</td>\n",
       "      <td>NaN</td>\n",
       "      <td>NaN</td>\n",
       "    </tr>\n",
       "    <tr>\n",
       "      <th>75%</th>\n",
       "      <td>NaN</td>\n",
       "      <td>NaN</td>\n",
       "      <td>NaN</td>\n",
       "      <td>NaN</td>\n",
       "      <td>NaN</td>\n",
       "      <td>NaN</td>\n",
       "      <td>NaN</td>\n",
       "      <td>2019.000000</td>\n",
       "      <td>NaN</td>\n",
       "      <td>NaN</td>\n",
       "      <td>NaN</td>\n",
       "      <td>NaN</td>\n",
       "    </tr>\n",
       "    <tr>\n",
       "      <th>max</th>\n",
       "      <td>NaN</td>\n",
       "      <td>NaN</td>\n",
       "      <td>NaN</td>\n",
       "      <td>NaN</td>\n",
       "      <td>NaN</td>\n",
       "      <td>NaN</td>\n",
       "      <td>NaN</td>\n",
       "      <td>2021.000000</td>\n",
       "      <td>NaN</td>\n",
       "      <td>NaN</td>\n",
       "      <td>NaN</td>\n",
       "      <td>NaN</td>\n",
       "    </tr>\n",
       "  </tbody>\n",
       "</table>\n",
       "</div>"
      ],
      "text/plain": [
       "       show_id   type                 title       director  \\\n",
       "count     8807   8807                  8807           6173   \n",
       "unique    8807      2                  8807           4528   \n",
       "top         s1  Movie  Dick Johnson Is Dead  Rajiv Chilaka   \n",
       "freq         1   6131                     1             19   \n",
       "mean       NaN    NaN                   NaN            NaN   \n",
       "std        NaN    NaN                   NaN            NaN   \n",
       "min        NaN    NaN                   NaN            NaN   \n",
       "25%        NaN    NaN                   NaN            NaN   \n",
       "50%        NaN    NaN                   NaN            NaN   \n",
       "75%        NaN    NaN                   NaN            NaN   \n",
       "max        NaN    NaN                   NaN            NaN   \n",
       "\n",
       "                      cast        country       date_added  release_year  \\\n",
       "count                 7982           7976             8797   8807.000000   \n",
       "unique                7692            748             1767           NaN   \n",
       "top     David Attenborough  United States  January 1, 2020           NaN   \n",
       "freq                    19           2818              109           NaN   \n",
       "mean                   NaN            NaN              NaN   2014.180198   \n",
       "std                    NaN            NaN              NaN      8.819312   \n",
       "min                    NaN            NaN              NaN   1925.000000   \n",
       "25%                    NaN            NaN              NaN   2013.000000   \n",
       "50%                    NaN            NaN              NaN   2017.000000   \n",
       "75%                    NaN            NaN              NaN   2019.000000   \n",
       "max                    NaN            NaN              NaN   2021.000000   \n",
       "\n",
       "       rating  duration                     listed_in  \\\n",
       "count    8803      8804                          8807   \n",
       "unique     17       220                           514   \n",
       "top     TV-MA  1 Season  Dramas, International Movies   \n",
       "freq     3207      1793                           362   \n",
       "mean      NaN       NaN                           NaN   \n",
       "std       NaN       NaN                           NaN   \n",
       "min       NaN       NaN                           NaN   \n",
       "25%       NaN       NaN                           NaN   \n",
       "50%       NaN       NaN                           NaN   \n",
       "75%       NaN       NaN                           NaN   \n",
       "max       NaN       NaN                           NaN   \n",
       "\n",
       "                                              description  \n",
       "count                                                8807  \n",
       "unique                                               8775  \n",
       "top     Paranormal activity at a lush, abandoned prope...  \n",
       "freq                                                    4  \n",
       "mean                                                  NaN  \n",
       "std                                                   NaN  \n",
       "min                                                   NaN  \n",
       "25%                                                   NaN  \n",
       "50%                                                   NaN  \n",
       "75%                                                   NaN  \n",
       "max                                                   NaN  "
      ]
     },
     "execution_count": 6,
     "metadata": {},
     "output_type": "execute_result"
    }
   ],
   "source": [
    "df.describe(include=\"all\")"
   ]
  },
  {
   "cell_type": "code",
   "execution_count": 7,
   "id": "de1897e7",
   "metadata": {
    "execution": {
     "iopub.execute_input": "2024-06-20T06:22:35.356476Z",
     "iopub.status.busy": "2024-06-20T06:22:35.356107Z",
     "iopub.status.idle": "2024-06-20T06:22:35.369726Z",
     "shell.execute_reply": "2024-06-20T06:22:35.368687Z"
    },
    "papermill": {
     "duration": 0.030444,
     "end_time": "2024-06-20T06:22:35.371926",
     "exception": false,
     "start_time": "2024-06-20T06:22:35.341482",
     "status": "completed"
    },
    "tags": []
   },
   "outputs": [
    {
     "data": {
      "text/plain": [
       "show_id            0\n",
       "type               0\n",
       "title              0\n",
       "director        2634\n",
       "cast             825\n",
       "country          831\n",
       "date_added        10\n",
       "release_year       0\n",
       "rating             4\n",
       "duration           3\n",
       "listed_in          0\n",
       "description        0\n",
       "dtype: int64"
      ]
     },
     "execution_count": 7,
     "metadata": {},
     "output_type": "execute_result"
    }
   ],
   "source": [
    "df.isnull().sum()"
   ]
  },
  {
   "cell_type": "markdown",
   "id": "09ac1e61",
   "metadata": {
    "papermill": {
     "duration": 0.013319,
     "end_time": "2024-06-20T06:22:35.399018",
     "exception": false,
     "start_time": "2024-06-20T06:22:35.385699",
     "status": "completed"
    },
    "tags": []
   },
   "source": [
    "# Data Preprocessing"
   ]
  },
  {
   "cell_type": "code",
   "execution_count": 8,
   "id": "8fcca675",
   "metadata": {
    "execution": {
     "iopub.execute_input": "2024-06-20T06:22:35.427839Z",
     "iopub.status.busy": "2024-06-20T06:22:35.427465Z",
     "iopub.status.idle": "2024-06-20T06:22:35.446162Z",
     "shell.execute_reply": "2024-06-20T06:22:35.445170Z"
    },
    "papermill": {
     "duration": 0.035955,
     "end_time": "2024-06-20T06:22:35.448602",
     "exception": false,
     "start_time": "2024-06-20T06:22:35.412647",
     "status": "completed"
    },
    "tags": []
   },
   "outputs": [],
   "source": [
    "df['date_added'] = pd.to_datetime(df['date_added'], errors='coerce')"
   ]
  },
  {
   "cell_type": "code",
   "execution_count": 9,
   "id": "8dbee24a",
   "metadata": {
    "execution": {
     "iopub.execute_input": "2024-06-20T06:22:35.477719Z",
     "iopub.status.busy": "2024-06-20T06:22:35.477345Z",
     "iopub.status.idle": "2024-06-20T06:22:35.488186Z",
     "shell.execute_reply": "2024-06-20T06:22:35.486916Z"
    },
    "papermill": {
     "duration": 0.028134,
     "end_time": "2024-06-20T06:22:35.490426",
     "exception": false,
     "start_time": "2024-06-20T06:22:35.462292",
     "status": "completed"
    },
    "tags": []
   },
   "outputs": [],
   "source": [
    "# Fill missing values in 'director', 'cast', 'country' with 'Unknown'\n",
    "df['director'] = df['director'].fillna('Unknown')\n",
    "df['cast'] = df['cast'].fillna('Unknown')\n",
    "df['country'] = df['country'].fillna('Unknown')"
   ]
  },
  {
   "cell_type": "code",
   "execution_count": 10,
   "id": "d5748ac5",
   "metadata": {
    "execution": {
     "iopub.execute_input": "2024-06-20T06:22:35.519593Z",
     "iopub.status.busy": "2024-06-20T06:22:35.519252Z",
     "iopub.status.idle": "2024-06-20T06:22:35.525860Z",
     "shell.execute_reply": "2024-06-20T06:22:35.524657Z"
    },
    "papermill": {
     "duration": 0.023672,
     "end_time": "2024-06-20T06:22:35.528011",
     "exception": false,
     "start_time": "2024-06-20T06:22:35.504339",
     "status": "completed"
    },
    "tags": []
   },
   "outputs": [],
   "source": [
    "# Fill missing values in 'rating' with 'Not Rated'\n",
    "df['rating'] = df['rating'].fillna('Not Rated')"
   ]
  },
  {
   "cell_type": "code",
   "execution_count": 11,
   "id": "cc2bad5c",
   "metadata": {
    "execution": {
     "iopub.execute_input": "2024-06-20T06:22:35.556741Z",
     "iopub.status.busy": "2024-06-20T06:22:35.556375Z",
     "iopub.status.idle": "2024-06-20T06:22:35.562514Z",
     "shell.execute_reply": "2024-06-20T06:22:35.561536Z"
    },
    "papermill": {
     "duration": 0.022962,
     "end_time": "2024-06-20T06:22:35.564500",
     "exception": false,
     "start_time": "2024-06-20T06:22:35.541538",
     "status": "completed"
    },
    "tags": []
   },
   "outputs": [],
   "source": [
    "# Fill missing values in 'duration' with 'Unknown'\n",
    "df['duration'] = df['duration'].fillna('Unknown')"
   ]
  },
  {
   "cell_type": "code",
   "execution_count": 12,
   "id": "57820244",
   "metadata": {
    "execution": {
     "iopub.execute_input": "2024-06-20T06:22:35.593457Z",
     "iopub.status.busy": "2024-06-20T06:22:35.592568Z",
     "iopub.status.idle": "2024-06-20T06:22:35.603151Z",
     "shell.execute_reply": "2024-06-20T06:22:35.602309Z"
    },
    "papermill": {
     "duration": 0.027323,
     "end_time": "2024-06-20T06:22:35.605310",
     "exception": false,
     "start_time": "2024-06-20T06:22:35.577987",
     "status": "completed"
    },
    "tags": []
   },
   "outputs": [],
   "source": [
    "df = df.dropna(subset=['date_added'])"
   ]
  },
  {
   "cell_type": "code",
   "execution_count": 13,
   "id": "adfa216a",
   "metadata": {
    "execution": {
     "iopub.execute_input": "2024-06-20T06:22:35.634032Z",
     "iopub.status.busy": "2024-06-20T06:22:35.633194Z",
     "iopub.status.idle": "2024-06-20T06:22:35.645334Z",
     "shell.execute_reply": "2024-06-20T06:22:35.644210Z"
    },
    "papermill": {
     "duration": 0.028741,
     "end_time": "2024-06-20T06:22:35.647385",
     "exception": false,
     "start_time": "2024-06-20T06:22:35.618644",
     "status": "completed"
    },
    "tags": []
   },
   "outputs": [
    {
     "name": "stdout",
     "output_type": "stream",
     "text": [
      "show_id         0\n",
      "type            0\n",
      "title           0\n",
      "director        0\n",
      "cast            0\n",
      "country         0\n",
      "date_added      0\n",
      "release_year    0\n",
      "rating          0\n",
      "duration        0\n",
      "listed_in       0\n",
      "description     0\n",
      "dtype: int64\n"
     ]
    }
   ],
   "source": [
    "print(df.isnull().sum())"
   ]
  },
  {
   "cell_type": "markdown",
   "id": "5b3e67ed",
   "metadata": {
    "papermill": {
     "duration": 0.01402,
     "end_time": "2024-06-20T06:22:35.675022",
     "exception": false,
     "start_time": "2024-06-20T06:22:35.661002",
     "status": "completed"
    },
    "tags": []
   },
   "source": [
    "# Exploratory Data Analysis (EDA)"
   ]
  },
  {
   "cell_type": "code",
   "execution_count": 14,
   "id": "3aeca693",
   "metadata": {
    "execution": {
     "iopub.execute_input": "2024-06-20T06:22:35.703771Z",
     "iopub.status.busy": "2024-06-20T06:22:35.703408Z",
     "iopub.status.idle": "2024-06-20T06:22:36.936987Z",
     "shell.execute_reply": "2024-06-20T06:22:36.935913Z"
    },
    "papermill": {
     "duration": 1.250744,
     "end_time": "2024-06-20T06:22:36.939421",
     "exception": false,
     "start_time": "2024-06-20T06:22:35.688677",
     "status": "completed"
    },
    "tags": []
   },
   "outputs": [],
   "source": [
    "import matplotlib.pyplot as plt\n",
    "import seaborn as sns"
   ]
  },
  {
   "cell_type": "code",
   "execution_count": 15,
   "id": "a5cda8d5",
   "metadata": {
    "execution": {
     "iopub.execute_input": "2024-06-20T06:22:36.969106Z",
     "iopub.status.busy": "2024-06-20T06:22:36.968588Z",
     "iopub.status.idle": "2024-06-20T06:22:37.185986Z",
     "shell.execute_reply": "2024-06-20T06:22:37.184938Z"
    },
    "papermill": {
     "duration": 0.234917,
     "end_time": "2024-06-20T06:22:37.188496",
     "exception": false,
     "start_time": "2024-06-20T06:22:36.953579",
     "status": "completed"
    },
    "tags": []
   },
   "outputs": [
    {
     "data": {
      "image/png": "[encoded data removed]",
      "text/plain": [
       "<Figure size 800x600 with 1 Axes>"
      ]
     },
     "metadata": {},
     "output_type": "display_data"
    }
   ],
   "source": [
    "# Distribution of content types (Movies vs TV Shows)\n",
    "plt.figure(figsize=(8, 6))\n",
    "sns.countplot(x='type', data=df)\n",
    "plt.title('Distribution of Content Types')\n",
    "plt.xlabel('Type')\n",
    "plt.ylabel('Count')\n",
    "plt.show()"
   ]
  },
  {
   "cell_type": "markdown",
   "id": "f4fe1d8a",
   "metadata": {
    "papermill": {
     "duration": 0.013777,
     "end_time": "2024-06-20T06:22:37.216674",
     "exception": false,
     "start_time": "2024-06-20T06:22:37.202897",
     "status": "completed"
    },
    "tags": []
   },
   "source": [
    "**Here you can see most content distribute is movies**"
   ]
  },
  {
   "cell_type": "code",
   "execution_count": 16,
   "id": "c0d7e99a",
   "metadata": {
    "execution": {
     "iopub.execute_input": "2024-06-20T06:22:37.246480Z",
     "iopub.status.busy": "2024-06-20T06:22:37.246093Z",
     "iopub.status.idle": "2024-06-20T06:22:37.594583Z",
     "shell.execute_reply": "2024-06-20T06:22:37.593597Z"
    },
    "papermill": {
     "duration": 0.365771,
     "end_time": "2024-06-20T06:22:37.596662",
     "exception": false,
     "start_time": "2024-06-20T06:22:37.230891",
     "status": "completed"
    },
    "tags": []
   },
   "outputs": [
    {
     "data": {
      "image/png": "[encoded data removed]",
      "text/plain": [
       "<Figure size 1400x700 with 1 Axes>"
      ]
     },
     "metadata": {},
     "output_type": "display_data"
    }
   ],
   "source": [
    "# Top 10 countries with most content\n",
    "plt.figure(figsize=(14, 7))\n",
    "top_countries = df['country'].value_counts().head(10)\n",
    "sns.barplot(x=top_countries.values, y=top_countries.index)\n",
    "plt.title('Top 10 Countries with Most Content')\n",
    "plt.xlabel('Number of Titles')\n",
    "plt.ylabel('Country')\n",
    "plt.show()"
   ]
  },
  {
   "cell_type": "markdown",
   "id": "e12aecb7",
   "metadata": {
    "papermill": {
     "duration": 0.014331,
     "end_time": "2024-06-20T06:22:37.625503",
     "exception": false,
     "start_time": "2024-06-20T06:22:37.611172",
     "status": "completed"
    },
    "tags": []
   },
   "source": [
    "**mostly distributed on usa**"
   ]
  },
  {
   "cell_type": "code",
   "execution_count": 17,
   "id": "272af519",
   "metadata": {
    "execution": {
     "iopub.execute_input": "2024-06-20T06:22:37.709188Z",
     "iopub.status.busy": "2024-06-20T06:22:37.708775Z",
     "iopub.status.idle": "2024-06-20T06:22:38.404983Z",
     "shell.execute_reply": "2024-06-20T06:22:38.404005Z"
    },
    "papermill": {
     "duration": 0.767736,
     "end_time": "2024-06-20T06:22:38.407682",
     "exception": false,
     "start_time": "2024-06-20T06:22:37.639946",
     "status": "completed"
    },
    "tags": []
   },
   "outputs": [
    {
     "data": {
      "image/png": "[encoded data removed]",
      "text/plain": [
       "<Figure size 1400x700 with 1 Axes>"
      ]
     },
     "metadata": {},
     "output_type": "display_data"
    }
   ],
   "source": [
    "# Trend of content release over the years\n",
    "plt.figure(figsize=(14, 7))\n",
    "sns.countplot(x='release_year', data=df, order=df['release_year'].value_counts().index)\n",
    "plt.xticks(rotation=90)\n",
    "plt.title('Trend of Content Release Over the Years')\n",
    "plt.xlabel('Release Year')\n",
    "plt.ylabel('Count')\n",
    "plt.show()"
   ]
  },
  {
   "cell_type": "markdown",
   "id": "9843907a",
   "metadata": {
    "papermill": {
     "duration": 0.015254,
     "end_time": "2024-06-20T06:22:38.438515",
     "exception": false,
     "start_time": "2024-06-20T06:22:38.423261",
     "status": "completed"
    },
    "tags": []
   },
   "source": [
    "**Most content release in 2018**"
   ]
  },
  {
   "cell_type": "code",
   "execution_count": 18,
   "id": "211f4027",
   "metadata": {
    "execution": {
     "iopub.execute_input": "2024-06-20T06:22:38.471178Z",
     "iopub.status.busy": "2024-06-20T06:22:38.470232Z",
     "iopub.status.idle": "2024-06-20T06:22:38.833205Z",
     "shell.execute_reply": "2024-06-20T06:22:38.831929Z"
    },
    "papermill": {
     "duration": 0.38162,
     "end_time": "2024-06-20T06:22:38.835484",
     "exception": false,
     "start_time": "2024-06-20T06:22:38.453864",
     "status": "completed"
    },
    "tags": []
   },
   "outputs": [
    {
     "data": {
      "image/png": "[encoded data removed]",
      "text/plain": [
       "<Figure size 1400x700 with 1 Axes>"
      ]
     },
     "metadata": {},
     "output_type": "display_data"
    }
   ],
   "source": [
    "# Distribution of content ratings\n",
    "plt.figure(figsize=(14, 7))\n",
    "sns.countplot(y='rating', data=df, order=df['rating'].value_counts().index)\n",
    "plt.title('Distribution of Content Ratings')\n",
    "plt.xlabel('Count')\n",
    "plt.ylabel('Rating')\n",
    "plt.show()"
   ]
  },
  {
   "cell_type": "markdown",
   "id": "61f6fc9d",
   "metadata": {
    "papermill": {
     "duration": 0.015772,
     "end_time": "2024-06-20T06:22:38.867268",
     "exception": false,
     "start_time": "2024-06-20T06:22:38.851496",
     "status": "completed"
    },
    "tags": []
   },
   "source": [
    "**TV-MA gated highest ratings**"
   ]
  },
  {
   "cell_type": "markdown",
   "id": "6d456453",
   "metadata": {
    "papermill": {
     "duration": 0.015531,
     "end_time": "2024-06-20T06:22:38.899089",
     "exception": false,
     "start_time": "2024-06-20T06:22:38.883558",
     "status": "completed"
    },
    "tags": []
   },
   "source": [
    "# Insights Extraction"
   ]
  },
  {
   "cell_type": "code",
   "execution_count": 19,
   "id": "9dd31d64",
   "metadata": {
    "execution": {
     "iopub.execute_input": "2024-06-20T06:22:38.933640Z",
     "iopub.status.busy": "2024-06-20T06:22:38.932753Z",
     "iopub.status.idle": "2024-06-20T06:22:38.942338Z",
     "shell.execute_reply": "2024-06-20T06:22:38.941197Z"
    },
    "papermill": {
     "duration": 0.029583,
     "end_time": "2024-06-20T06:22:38.944471",
     "exception": false,
     "start_time": "2024-06-20T06:22:38.914888",
     "status": "completed"
    },
    "tags": []
   },
   "outputs": [
    {
     "name": "stdout",
     "output_type": "stream",
     "text": [
      "Most Common Directors:\n",
      " director\n",
      "Unknown                   2541\n",
      "Rajiv Chilaka               19\n",
      "Raúl Campos, Jan Suter      18\n",
      "Marcus Raboy                16\n",
      "Suhas Kadav                 16\n",
      "Jay Karas                   14\n",
      "Cathy Garcia-Molina         13\n",
      "Martin Scorsese             12\n",
      "Youssef Chahine             12\n",
      "Jay Chapman                 12\n",
      "Name: count, dtype: int64\n"
     ]
    }
   ],
   "source": [
    "#common directors\n",
    "most_common_directors = df['director'].value_counts().head(10)\n",
    "print('Most Common Directors:\\n', most_common_directors)"
   ]
  },
  {
   "cell_type": "code",
   "execution_count": 20,
   "id": "f566bbe0",
   "metadata": {
    "execution": {
     "iopub.execute_input": "2024-06-20T06:22:38.978507Z",
     "iopub.status.busy": "2024-06-20T06:22:38.977719Z",
     "iopub.status.idle": "2024-06-20T06:22:39.077128Z",
     "shell.execute_reply": "2024-06-20T06:22:39.076039Z"
    },
    "papermill": {
     "duration": 0.119147,
     "end_time": "2024-06-20T06:22:39.079696",
     "exception": false,
     "start_time": "2024-06-20T06:22:38.960549",
     "status": "completed"
    },
    "tags": []
   },
   "outputs": [
    {
     "name": "stdout",
     "output_type": "stream",
     "text": [
      "Most Frequent Actors:\n",
      " Unknown             817\n",
      "Anupam Kher          43\n",
      "Shah Rukh Khan       35\n",
      "Julie Tejwani        33\n",
      "Naseeruddin Shah     32\n",
      "Rupa Bhimani         31\n",
      "Takahiro Sakurai     31\n",
      "Om Puri              30\n",
      "Akshay Kumar         30\n",
      "Yuki Kaji            29\n",
      "Name: count, dtype: int64\n"
     ]
    }
   ],
   "source": [
    "# Most frequent actors\n",
    "most_frequent_actors = df['cast'].str.split(', ', expand=True).stack().value_counts().head(10)\n",
    "print('Most Frequent Actors:\\n', most_frequent_actors)"
   ]
  },
  {
   "cell_type": "code",
   "execution_count": 21,
   "id": "ed813aa1",
   "metadata": {
    "execution": {
     "iopub.execute_input": "2024-06-20T06:22:39.115477Z",
     "iopub.status.busy": "2024-06-20T06:22:39.115101Z",
     "iopub.status.idle": "2024-06-20T06:22:39.142479Z",
     "shell.execute_reply": "2024-06-20T06:22:39.141484Z"
    },
    "papermill": {
     "duration": 0.048415,
     "end_time": "2024-06-20T06:22:39.144887",
     "exception": false,
     "start_time": "2024-06-20T06:22:39.096472",
     "status": "completed"
    },
    "tags": []
   },
   "outputs": [
    {
     "name": "stdout",
     "output_type": "stream",
     "text": [
      "Most Common Genres:\n",
      " International Movies        2752\n",
      "Dramas                      2427\n",
      "Comedies                    1674\n",
      "International TV Shows      1328\n",
      "Documentaries                869\n",
      "Action & Adventure           859\n",
      "Independent Movies           756\n",
      "TV Dramas                    739\n",
      "Children & Family Movies     641\n",
      "Romantic Movies              616\n",
      "Name: count, dtype: int64\n"
     ]
    }
   ],
   "source": [
    "# Most common genres\n",
    "most_common_genres = df['listed_in'].str.split(', ', expand=True).stack().value_counts().head(10)\n",
    "print('Most Common Genres:\\n', most_common_genres)"
   ]
  },
  {
   "cell_type": "code",
   "execution_count": 22,
   "id": "4bfce75b",
   "metadata": {
    "execution": {
     "iopub.execute_input": "2024-06-20T06:22:39.179548Z",
     "iopub.status.busy": "2024-06-20T06:22:39.179182Z",
     "iopub.status.idle": "2024-06-20T06:22:39.188106Z",
     "shell.execute_reply": "2024-06-20T06:22:39.187070Z"
    },
    "papermill": {
     "duration": 0.029132,
     "end_time": "2024-06-20T06:22:39.190462",
     "exception": false,
     "start_time": "2024-06-20T06:22:39.161330",
     "status": "completed"
    },
    "tags": []
   },
   "outputs": [
    {
     "name": "stdout",
     "output_type": "stream",
     "text": [
      "Number of Titles Added Each Year:\n",
      " date_added\n",
      "2008       2\n",
      "2009       2\n",
      "2010       1\n",
      "2011      13\n",
      "2012       3\n",
      "2013      10\n",
      "2014      23\n",
      "2015      73\n",
      "2016     418\n",
      "2017    1164\n",
      "2018    1625\n",
      "2019    1999\n",
      "2020    1878\n",
      "2021    1498\n",
      "Name: count, dtype: int64\n"
     ]
    }
   ],
   "source": [
    "# Number of titles added each year\n",
    "titles_per_year = df['date_added'].dt.year.value_counts().sort_index()\n",
    "print('Number of Titles Added Each Year:\\n', titles_per_year)"
   ]
  },
  {
   "cell_type": "code",
   "execution_count": 23,
   "id": "c020247b",
   "metadata": {
    "execution": {
     "iopub.execute_input": "2024-06-20T06:22:39.226226Z",
     "iopub.status.busy": "2024-06-20T06:22:39.225413Z",
     "iopub.status.idle": "2024-06-20T06:22:39.246896Z",
     "shell.execute_reply": "2024-06-20T06:22:39.245737Z"
    },
    "papermill": {
     "duration": 0.041865,
     "end_time": "2024-06-20T06:22:39.249254",
     "exception": false,
     "start_time": "2024-06-20T06:22:39.207389",
     "status": "completed"
    },
    "tags": []
   },
   "outputs": [
    {
     "name": "stdout",
     "output_type": "stream",
     "text": [
      "Number of Titles by Type and Country:\n",
      " country  , France, Algeria  , South Korea  Argentina  \\\n",
      "type                                                   \n",
      "Movie                  1.0            0.0       38.0   \n",
      "TV Show                0.0            1.0       18.0   \n",
      "\n",
      "country  Argentina, Brazil, France, Poland, Germany, Denmark  \\\n",
      "type                                                           \n",
      "Movie                                                  1.0     \n",
      "TV Show                                                0.0     \n",
      "\n",
      "country  Argentina, Chile  Argentina, Chile, Peru  Argentina, France  \\\n",
      "type                                                                   \n",
      "Movie                 2.0                     1.0                1.0   \n",
      "TV Show               0.0                     0.0                0.0   \n",
      "\n",
      "country  Argentina, France, United States, Germany, Qatar  Argentina, Italy  \\\n",
      "type                                                                          \n",
      "Movie                                                 1.0               1.0   \n",
      "TV Show                                               0.0               0.0   \n",
      "\n",
      "country  Argentina, Spain  ...  Uruguay, Argentina, Germany, Spain  \\\n",
      "type                       ...                                       \n",
      "Movie                 7.0  ...                                 1.0   \n",
      "TV Show               1.0  ...                                 0.0   \n",
      "\n",
      "country  Uruguay, Argentina, Spain  Uruguay, Germany  Uruguay, Guatemala  \\\n",
      "type                                                                       \n",
      "Movie                          1.0               0.0                 1.0   \n",
      "TV Show                        0.0               1.0                 0.0   \n",
      "\n",
      "country  Uruguay, Spain, Mexico  Venezuela  Venezuela, Colombia  Vietnam  \\\n",
      "type                                                                       \n",
      "Movie                       1.0        1.0                  1.0      7.0   \n",
      "TV Show                     0.0        0.0                  0.0      0.0   \n",
      "\n",
      "country  West Germany  Zimbabwe  \n",
      "type                             \n",
      "Movie             1.0       1.0  \n",
      "TV Show           0.0       0.0  \n",
      "\n",
      "[2 rows x 746 columns]\n"
     ]
    }
   ],
   "source": [
    "# Number of titles by type and country\n",
    "titles_by_type_country = df.groupby(['type', 'country']).size().unstack().fillna(0)\n",
    "print('Number of Titles by Type and Country:\\n', titles_by_type_country)"
   ]
  },
  {
   "cell_type": "code",
   "execution_count": 24,
   "id": "90662dc4",
   "metadata": {
    "execution": {
     "iopub.execute_input": "2024-06-20T06:22:39.285813Z",
     "iopub.status.busy": "2024-06-20T06:22:39.285451Z",
     "iopub.status.idle": "2024-06-20T06:22:39.309601Z",
     "shell.execute_reply": "2024-06-20T06:22:39.308601Z"
    },
    "papermill": {
     "duration": 0.044977,
     "end_time": "2024-06-20T06:22:39.311920",
     "exception": false,
     "start_time": "2024-06-20T06:22:39.266943",
     "status": "completed"
    },
    "tags": []
   },
   "outputs": [
    {
     "data": {
      "text/html": [
       "<div>\n",
       "<style scoped>\n",
       "    .dataframe tbody tr th:only-of-type {\n",
       "        vertical-align: middle;\n",
       "    }\n",
       "\n",
       "    .dataframe tbody tr th {\n",
       "        vertical-align: top;\n",
       "    }\n",
       "\n",
       "    .dataframe thead th {\n",
       "        text-align: right;\n",
       "    }\n",
       "</style>\n",
       "<table border=\"1\" class=\"dataframe\">\n",
       "  <thead>\n",
       "    <tr style=\"text-align: right;\">\n",
       "      <th>country</th>\n",
       "      <th>, France, Algeria</th>\n",
       "      <th>, South Korea</th>\n",
       "      <th>Argentina</th>\n",
       "      <th>Argentina, Brazil, France, Poland, Germany, Denmark</th>\n",
       "      <th>Argentina, Chile</th>\n",
       "      <th>Argentina, Chile, Peru</th>\n",
       "      <th>Argentina, France</th>\n",
       "      <th>Argentina, France, United States, Germany, Qatar</th>\n",
       "      <th>Argentina, Italy</th>\n",
       "      <th>Argentina, Spain</th>\n",
       "      <th>...</th>\n",
       "      <th>Uruguay, Argentina, Germany, Spain</th>\n",
       "      <th>Uruguay, Argentina, Spain</th>\n",
       "      <th>Uruguay, Germany</th>\n",
       "      <th>Uruguay, Guatemala</th>\n",
       "      <th>Uruguay, Spain, Mexico</th>\n",
       "      <th>Venezuela</th>\n",
       "      <th>Venezuela, Colombia</th>\n",
       "      <th>Vietnam</th>\n",
       "      <th>West Germany</th>\n",
       "      <th>Zimbabwe</th>\n",
       "    </tr>\n",
       "    <tr>\n",
       "      <th>type</th>\n",
       "      <th></th>\n",
       "      <th></th>\n",
       "      <th></th>\n",
       "      <th></th>\n",
       "      <th></th>\n",
       "      <th></th>\n",
       "      <th></th>\n",
       "      <th></th>\n",
       "      <th></th>\n",
       "      <th></th>\n",
       "      <th></th>\n",
       "      <th></th>\n",
       "      <th></th>\n",
       "      <th></th>\n",
       "      <th></th>\n",
       "      <th></th>\n",
       "      <th></th>\n",
       "      <th></th>\n",
       "      <th></th>\n",
       "      <th></th>\n",
       "      <th></th>\n",
       "    </tr>\n",
       "  </thead>\n",
       "  <tbody>\n",
       "    <tr>\n",
       "      <th>Movie</th>\n",
       "      <td>1.0</td>\n",
       "      <td>0.0</td>\n",
       "      <td>38.0</td>\n",
       "      <td>1.0</td>\n",
       "      <td>2.0</td>\n",
       "      <td>1.0</td>\n",
       "      <td>1.0</td>\n",
       "      <td>1.0</td>\n",
       "      <td>1.0</td>\n",
       "      <td>7.0</td>\n",
       "      <td>...</td>\n",
       "      <td>1.0</td>\n",
       "      <td>1.0</td>\n",
       "      <td>0.0</td>\n",
       "      <td>1.0</td>\n",
       "      <td>1.0</td>\n",
       "      <td>1.0</td>\n",
       "      <td>1.0</td>\n",
       "      <td>7.0</td>\n",
       "      <td>1.0</td>\n",
       "      <td>1.0</td>\n",
       "    </tr>\n",
       "    <tr>\n",
       "      <th>TV Show</th>\n",
       "      <td>0.0</td>\n",
       "      <td>1.0</td>\n",
       "      <td>18.0</td>\n",
       "      <td>0.0</td>\n",
       "      <td>0.0</td>\n",
       "      <td>0.0</td>\n",
       "      <td>0.0</td>\n",
       "      <td>0.0</td>\n",
       "      <td>0.0</td>\n",
       "      <td>1.0</td>\n",
       "      <td>...</td>\n",
       "      <td>0.0</td>\n",
       "      <td>0.0</td>\n",
       "      <td>1.0</td>\n",
       "      <td>0.0</td>\n",
       "      <td>0.0</td>\n",
       "      <td>0.0</td>\n",
       "      <td>0.0</td>\n",
       "      <td>0.0</td>\n",
       "      <td>0.0</td>\n",
       "      <td>0.0</td>\n",
       "    </tr>\n",
       "  </tbody>\n",
       "</table>\n",
       "<p>2 rows × 746 columns</p>\n",
       "</div>"
      ],
      "text/plain": [
       "country  , France, Algeria  , South Korea  Argentina  \\\n",
       "type                                                   \n",
       "Movie                  1.0            0.0       38.0   \n",
       "TV Show                0.0            1.0       18.0   \n",
       "\n",
       "country  Argentina, Brazil, France, Poland, Germany, Denmark  \\\n",
       "type                                                           \n",
       "Movie                                                  1.0     \n",
       "TV Show                                                0.0     \n",
       "\n",
       "country  Argentina, Chile  Argentina, Chile, Peru  Argentina, France  \\\n",
       "type                                                                   \n",
       "Movie                 2.0                     1.0                1.0   \n",
       "TV Show               0.0                     0.0                0.0   \n",
       "\n",
       "country  Argentina, France, United States, Germany, Qatar  Argentina, Italy  \\\n",
       "type                                                                          \n",
       "Movie                                                 1.0               1.0   \n",
       "TV Show                                               0.0               0.0   \n",
       "\n",
       "country  Argentina, Spain  ...  Uruguay, Argentina, Germany, Spain  \\\n",
       "type                       ...                                       \n",
       "Movie                 7.0  ...                                 1.0   \n",
       "TV Show               1.0  ...                                 0.0   \n",
       "\n",
       "country  Uruguay, Argentina, Spain  Uruguay, Germany  Uruguay, Guatemala  \\\n",
       "type                                                                       \n",
       "Movie                          1.0               0.0                 1.0   \n",
       "TV Show                        0.0               1.0                 0.0   \n",
       "\n",
       "country  Uruguay, Spain, Mexico  Venezuela  Venezuela, Colombia  Vietnam  \\\n",
       "type                                                                       \n",
       "Movie                       1.0        1.0                  1.0      7.0   \n",
       "TV Show                     0.0        0.0                  0.0      0.0   \n",
       "\n",
       "country  West Germany  Zimbabwe  \n",
       "type                             \n",
       "Movie             1.0       1.0  \n",
       "TV Show           0.0       0.0  \n",
       "\n",
       "[2 rows x 746 columns]"
      ]
     },
     "execution_count": 24,
     "metadata": {},
     "output_type": "execute_result"
    }
   ],
   "source": [
    " titles_by_type_country"
   ]
  },
  {
   "cell_type": "markdown",
   "id": "7aa6b27c",
   "metadata": {
    "papermill": {
     "duration": 0.016933,
     "end_time": "2024-06-20T06:22:39.345775",
     "exception": false,
     "start_time": "2024-06-20T06:22:39.328842",
     "status": "completed"
    },
    "tags": []
   },
   "source": [
    "# Model development "
   ]
  },
  {
   "cell_type": "code",
   "execution_count": 25,
   "id": "b34f8cf2",
   "metadata": {
    "execution": {
     "iopub.execute_input": "2024-06-20T06:22:39.381574Z",
     "iopub.status.busy": "2024-06-20T06:22:39.381210Z",
     "iopub.status.idle": "2024-06-20T06:22:39.844227Z",
     "shell.execute_reply": "2024-06-20T06:22:39.843186Z"
    },
    "papermill": {
     "duration": 0.483738,
     "end_time": "2024-06-20T06:22:39.846677",
     "exception": false,
     "start_time": "2024-06-20T06:22:39.362939",
     "status": "completed"
    },
    "tags": []
   },
   "outputs": [],
   "source": [
    "from sklearn.model_selection import train_test_split\n",
    "from sklearn.preprocessing import LabelEncoder, StandardScaler\n",
    "from sklearn.ensemble import RandomForestClassifier\n",
    "from sklearn.linear_model import LogisticRegression\n",
    "from sklearn.svm import SVC\n",
    "from sklearn.metrics import accuracy_score, classification_report"
   ]
  },
  {
   "cell_type": "code",
   "execution_count": 26,
   "id": "f72eda26",
   "metadata": {
    "execution": {
     "iopub.execute_input": "2024-06-20T06:22:39.882405Z",
     "iopub.status.busy": "2024-06-20T06:22:39.881615Z",
     "iopub.status.idle": "2024-06-20T06:22:39.928638Z",
     "shell.execute_reply": "2024-06-20T06:22:39.927552Z"
    },
    "papermill": {
     "duration": 0.067154,
     "end_time": "2024-06-20T06:22:39.930833",
     "exception": false,
     "start_time": "2024-06-20T06:22:39.863679",
     "status": "completed"
    },
    "tags": []
   },
   "outputs": [],
   "source": [
    "# Encoding categorical variables\n",
    "label_encoders = {}\n",
    "for column in ['type', 'director', 'cast', 'country', 'rating', 'duration', 'listed_in']:\n",
    "    le = LabelEncoder()\n",
    "    df[column] = le.fit_transform(df[column])\n",
    "    label_encoders[column] = le"
   ]
  },
  {
   "cell_type": "code",
   "execution_count": 27,
   "id": "18d6bdea",
   "metadata": {
    "execution": {
     "iopub.execute_input": "2024-06-20T06:22:39.966536Z",
     "iopub.status.busy": "2024-06-20T06:22:39.966193Z",
     "iopub.status.idle": "2024-06-20T06:22:39.972840Z",
     "shell.execute_reply": "2024-06-20T06:22:39.971899Z"
    },
    "papermill": {
     "duration": 0.026891,
     "end_time": "2024-06-20T06:22:39.975053",
     "exception": false,
     "start_time": "2024-06-20T06:22:39.948162",
     "status": "completed"
    },
    "tags": []
   },
   "outputs": [],
   "source": [
    "# Extracting features and target variable\n",
    "X = df[['director', 'cast', 'country', 'release_year', 'rating', 'duration', 'listed_in']]\n",
    "y = df['type']"
   ]
  },
  {
   "cell_type": "code",
   "execution_count": 28,
   "id": "a73afa98",
   "metadata": {
    "execution": {
     "iopub.execute_input": "2024-06-20T06:22:40.010330Z",
     "iopub.status.busy": "2024-06-20T06:22:40.009971Z",
     "iopub.status.idle": "2024-06-20T06:22:40.020288Z",
     "shell.execute_reply": "2024-06-20T06:22:40.019249Z"
    },
    "papermill": {
     "duration": 0.030374,
     "end_time": "2024-06-20T06:22:40.022345",
     "exception": false,
     "start_time": "2024-06-20T06:22:39.991971",
     "status": "completed"
    },
    "tags": []
   },
   "outputs": [],
   "source": [
    "X_train, X_test, y_train, y_test = train_test_split(X, y, test_size=0.3, random_state=42)"
   ]
  },
  {
   "cell_type": "code",
   "execution_count": 29,
   "id": "4e1a15b4",
   "metadata": {
    "execution": {
     "iopub.execute_input": "2024-06-20T06:22:40.057857Z",
     "iopub.status.busy": "2024-06-20T06:22:40.057523Z",
     "iopub.status.idle": "2024-06-20T06:22:40.070080Z",
     "shell.execute_reply": "2024-06-20T06:22:40.069126Z"
    },
    "papermill": {
     "duration": 0.03267,
     "end_time": "2024-06-20T06:22:40.072266",
     "exception": false,
     "start_time": "2024-06-20T06:22:40.039596",
     "status": "completed"
    },
    "tags": []
   },
   "outputs": [],
   "source": [
    "# Feature scaling\n",
    "scaler = StandardScaler()\n",
    "X_train = scaler.fit_transform(X_train)\n",
    "X_test = scaler.transform(X_test)"
   ]
  },
  {
   "cell_type": "code",
   "execution_count": 30,
   "id": "f034cbbe",
   "metadata": {
    "execution": {
     "iopub.execute_input": "2024-06-20T06:22:40.107506Z",
     "iopub.status.busy": "2024-06-20T06:22:40.106816Z",
     "iopub.status.idle": "2024-06-20T06:22:40.133821Z",
     "shell.execute_reply": "2024-06-20T06:22:40.132588Z"
    },
    "papermill": {
     "duration": 0.048127,
     "end_time": "2024-06-20T06:22:40.137181",
     "exception": false,
     "start_time": "2024-06-20T06:22:40.089054",
     "status": "completed"
    },
    "tags": []
   },
   "outputs": [],
   "source": [
    "#Model Training and Evaluation\n",
    "logreg = LogisticRegression(random_state=42)\n",
    "logreg.fit(X_train, y_train)\n",
    "y_pred_logreg = logreg.predict(X_test)\n",
    "accuracy_logreg = accuracy_score(y_test, y_pred_logreg)"
   ]
  },
  {
   "cell_type": "code",
   "execution_count": 31,
   "id": "7d17a35a",
   "metadata": {
    "execution": {
     "iopub.execute_input": "2024-06-20T06:22:40.196025Z",
     "iopub.status.busy": "2024-06-20T06:22:40.195499Z",
     "iopub.status.idle": "2024-06-20T06:22:40.219706Z",
     "shell.execute_reply": "2024-06-20T06:22:40.218588Z"
    },
    "papermill": {
     "duration": 0.057001,
     "end_time": "2024-06-20T06:22:40.222525",
     "exception": false,
     "start_time": "2024-06-20T06:22:40.165524",
     "status": "completed"
    },
    "tags": []
   },
   "outputs": [
    {
     "name": "stdout",
     "output_type": "stream",
     "text": [
      "Logistic Regression Accuracy: 0.8932261768082663\n",
      "              precision    recall  f1-score   support\n",
      "\n",
      "           0       0.92      0.93      0.92      1842\n",
      "           1       0.82      0.81      0.82       771\n",
      "\n",
      "    accuracy                           0.89      2613\n",
      "   macro avg       0.87      0.87      0.87      2613\n",
      "weighted avg       0.89      0.89      0.89      2613\n",
      "\n"
     ]
    }
   ],
   "source": [
    "print(f'Logistic Regression Accuracy: {accuracy_logreg}')\n",
    "print(classification_report(y_test, y_pred_logreg))"
   ]
  },
  {
   "cell_type": "code",
   "execution_count": 32,
   "id": "08f10aff",
   "metadata": {
    "execution": {
     "iopub.execute_input": "2024-06-20T06:22:40.270383Z",
     "iopub.status.busy": "2024-06-20T06:22:40.269718Z",
     "iopub.status.idle": "2024-06-20T06:22:40.949198Z",
     "shell.execute_reply": "2024-06-20T06:22:40.947821Z"
    },
    "papermill": {
     "duration": 0.70007,
     "end_time": "2024-06-20T06:22:40.951416",
     "exception": false,
     "start_time": "2024-06-20T06:22:40.251346",
     "status": "completed"
    },
    "tags": []
   },
   "outputs": [
    {
     "name": "stdout",
     "output_type": "stream",
     "text": [
      "SVM Accuracy: 0.9318790662074244\n",
      "              precision    recall  f1-score   support\n",
      "\n",
      "           0       0.96      0.95      0.95      1842\n",
      "           1       0.87      0.90      0.89       771\n",
      "\n",
      "    accuracy                           0.93      2613\n",
      "   macro avg       0.92      0.92      0.92      2613\n",
      "weighted avg       0.93      0.93      0.93      2613\n",
      "\n"
     ]
    }
   ],
   "source": [
    "svm = SVC(random_state=42)\n",
    "svm.fit(X_train, y_train)\n",
    "y_pred_svm = svm.predict(X_test)\n",
    "accuracy_svm = accuracy_score(y_test, y_pred_svm)\n",
    "print(f'SVM Accuracy: {accuracy_svm}')\n",
    "print(classification_report(y_test, y_pred_svm))"
   ]
  },
  {
   "cell_type": "code",
   "execution_count": 33,
   "id": "457cbb5e",
   "metadata": {
    "execution": {
     "iopub.execute_input": "2024-06-20T06:22:40.987483Z",
     "iopub.status.busy": "2024-06-20T06:22:40.986512Z",
     "iopub.status.idle": "2024-06-20T06:22:41.664287Z",
     "shell.execute_reply": "2024-06-20T06:22:41.663238Z"
    },
    "papermill": {
     "duration": 0.698353,
     "end_time": "2024-06-20T06:22:41.666678",
     "exception": false,
     "start_time": "2024-06-20T06:22:40.968325",
     "status": "completed"
    },
    "tags": []
   },
   "outputs": [
    {
     "name": "stdout",
     "output_type": "stream",
     "text": [
      "Random Forest Accuracy: 0.9915805587447378\n",
      "              precision    recall  f1-score   support\n",
      "\n",
      "           0       0.99      1.00      0.99      1842\n",
      "           1       1.00      0.98      0.99       771\n",
      "\n",
      "    accuracy                           0.99      2613\n",
      "   macro avg       0.99      0.99      0.99      2613\n",
      "weighted avg       0.99      0.99      0.99      2613\n",
      "\n"
     ]
    }
   ],
   "source": [
    "rf = RandomForestClassifier(random_state=42)\n",
    "rf.fit(X_train, y_train)\n",
    "y_pred_rf = rf.predict(X_test)\n",
    "accuracy_rf = accuracy_score(y_test, y_pred_rf)\n",
    "print(f'Random Forest Accuracy: {accuracy_rf}')\n",
    "print(classification_report(y_test, y_pred_rf))"
   ]
  },
  {
   "cell_type": "markdown",
   "id": "c0bb48f6",
   "metadata": {
    "papermill": {
     "duration": 0.016779,
     "end_time": "2024-06-20T06:22:41.700498",
     "exception": false,
     "start_time": "2024-06-20T06:22:41.683719",
     "status": "completed"
    },
    "tags": []
   },
   "source": [
    "# Model Selection"
   ]
  },
  {
   "cell_type": "code",
   "execution_count": 34,
   "id": "694fa290",
   "metadata": {
    "execution": {
     "iopub.execute_input": "2024-06-20T06:22:41.735938Z",
     "iopub.status.busy": "2024-06-20T06:22:41.735516Z",
     "iopub.status.idle": "2024-06-20T06:22:41.741120Z",
     "shell.execute_reply": "2024-06-20T06:22:41.740102Z"
    },
    "papermill": {
     "duration": 0.025811,
     "end_time": "2024-06-20T06:22:41.743233",
     "exception": false,
     "start_time": "2024-06-20T06:22:41.717422",
     "status": "completed"
    },
    "tags": []
   },
   "outputs": [
    {
     "name": "stdout",
     "output_type": "stream",
     "text": [
      "Logistic Regression Accuracy: 0.8932261768082663\n",
      "SVM Accuracy: 0.9318790662074244\n",
      "Random Forest Accuracy: 0.9915805587447378\n"
     ]
    }
   ],
   "source": [
    "# Printing accuracies of all models\n",
    "print(f'Logistic Regression Accuracy: {accuracy_logreg}')\n",
    "print(f'SVM Accuracy: {accuracy_svm}')\n",
    "print(f'Random Forest Accuracy: {accuracy_rf}')"
   ]
  },
  {
   "cell_type": "code",
   "execution_count": 35,
   "id": "1d96f255",
   "metadata": {
    "execution": {
     "iopub.execute_input": "2024-06-20T06:22:41.778854Z",
     "iopub.status.busy": "2024-06-20T06:22:41.778483Z",
     "iopub.status.idle": "2024-06-20T06:22:41.784094Z",
     "shell.execute_reply": "2024-06-20T06:22:41.783101Z"
    },
    "papermill": {
     "duration": 0.026078,
     "end_time": "2024-06-20T06:22:41.786386",
     "exception": false,
     "start_time": "2024-06-20T06:22:41.760308",
     "status": "completed"
    },
    "tags": []
   },
   "outputs": [
    {
     "name": "stdout",
     "output_type": "stream",
     "text": [
      "Best Model: Random Forest with accuracy 0.9915805587447378\n"
     ]
    }
   ],
   "source": [
    "# Choose the best model\n",
    "best_model = max((accuracy_logreg, 'Logistic Regression'), (accuracy_svm, 'SVM'), (accuracy_rf, 'Random Forest'))\n",
    "print(f'Best Model: {best_model[1]} with accuracy {best_model[0]}')"
   ]
  },
  {
   "cell_type": "markdown",
   "id": "bb033804",
   "metadata": {
    "papermill": {
     "duration": 0.016953,
     "end_time": "2024-06-20T06:22:41.820477",
     "exception": false,
     "start_time": "2024-06-20T06:22:41.803524",
     "status": "completed"
    },
    "tags": []
   },
   "source": [
    "# Hyperparameter Tuning using Grid Search"
   ]
  },
  {
   "cell_type": "markdown",
   "id": "1c859e6b",
   "metadata": {
    "papermill": {
     "duration": 0.019448,
     "end_time": "2024-06-20T06:22:41.860375",
     "exception": false,
     "start_time": "2024-06-20T06:22:41.840927",
     "status": "completed"
    },
    "tags": []
   },
   "source": [
    "**We'll start by using Grid Search to tune the hyperparameters of the Random Forest model, as it is likely to have more parameters that can be fine-tuned compared to Logistic Regression and SVM.**"
   ]
  },
  {
   "cell_type": "code",
   "execution_count": 36,
   "id": "655665c4",
   "metadata": {
    "execution": {
     "iopub.execute_input": "2024-06-20T06:22:41.898550Z",
     "iopub.status.busy": "2024-06-20T06:22:41.898185Z",
     "iopub.status.idle": "2024-06-20T06:22:41.903037Z",
     "shell.execute_reply": "2024-06-20T06:22:41.901802Z"
    },
    "papermill": {
     "duration": 0.027025,
     "end_time": "2024-06-20T06:22:41.905196",
     "exception": false,
     "start_time": "2024-06-20T06:22:41.878171",
     "status": "completed"
    },
    "tags": []
   },
   "outputs": [],
   "source": [
    "from sklearn.model_selection import GridSearchCV"
   ]
  },
  {
   "cell_type": "code",
   "execution_count": 37,
   "id": "1904f45f",
   "metadata": {
    "execution": {
     "iopub.execute_input": "2024-06-20T06:22:41.942081Z",
     "iopub.status.busy": "2024-06-20T06:22:41.940941Z",
     "iopub.status.idle": "2024-06-20T06:22:41.946604Z",
     "shell.execute_reply": "2024-06-20T06:22:41.945609Z"
    },
    "papermill": {
     "duration": 0.026305,
     "end_time": "2024-06-20T06:22:41.948922",
     "exception": false,
     "start_time": "2024-06-20T06:22:41.922617",
     "status": "completed"
    },
    "tags": []
   },
   "outputs": [],
   "source": [
    "param_grid = {\n",
    "    'n_estimators': [100, 200, 300],\n",
    "    'max_depth': [None, 10, 20, 30],\n",
    "    'min_samples_split': [2, 5, 10],\n",
    "    'min_samples_leaf': [1, 2, 4]\n",
    "}\n"
   ]
  },
  {
   "cell_type": "code",
   "execution_count": 38,
   "id": "d2b2010c",
   "metadata": {
    "execution": {
     "iopub.execute_input": "2024-06-20T06:22:41.985506Z",
     "iopub.status.busy": "2024-06-20T06:22:41.984516Z",
     "iopub.status.idle": "2024-06-20T06:22:41.989337Z",
     "shell.execute_reply": "2024-06-20T06:22:41.988436Z"
    },
    "papermill": {
     "duration": 0.02519,
     "end_time": "2024-06-20T06:22:41.991387",
     "exception": false,
     "start_time": "2024-06-20T06:22:41.966197",
     "status": "completed"
    },
    "tags": []
   },
   "outputs": [],
   "source": [
    "#creating grid search model\n",
    "grid_search = GridSearchCV(estimator=rf, param_grid=param_grid, cv=3, n_jobs=-1, verbose=2)"
   ]
  },
  {
   "cell_type": "code",
   "execution_count": 39,
   "id": "23c4c26e",
   "metadata": {
    "execution": {
     "iopub.execute_input": "2024-06-20T06:22:42.028323Z",
     "iopub.status.busy": "2024-06-20T06:22:42.027326Z",
     "iopub.status.idle": "2024-06-20T06:24:31.073825Z",
     "shell.execute_reply": "2024-06-20T06:24:31.072794Z"
    },
    "papermill": {
     "duration": 109.067609,
     "end_time": "2024-06-20T06:24:31.076306",
     "exception": false,
     "start_time": "2024-06-20T06:22:42.008697",
     "status": "completed"
    },
    "tags": []
   },
   "outputs": [
    {
     "name": "stdout",
     "output_type": "stream",
     "text": [
      "Fitting 3 folds for each of 108 candidates, totalling 324 fits\n",
      "[CV] END max_depth=None, min_samples_leaf=1, min_samples_split=2, n_estimators=100; total time=   0.7s\n",
      "[CV] END max_depth=None, min_samples_leaf=1, min_samples_split=2, n_estimators=200; total time=   1.3s\n",
      "[CV] END max_depth=None, min_samples_leaf=1, min_samples_split=5, n_estimators=100; total time=   0.7s\n",
      "[CV] END max_depth=None, min_samples_leaf=1, min_samples_split=5, n_estimators=100; total time=   0.7s\n",
      "[CV] END max_depth=None, min_samples_leaf=1, min_samples_split=5, n_estimators=200; total time=   1.3s\n",
      "[CV] END max_depth=None, min_samples_leaf=1, min_samples_split=10, n_estimators=100; total time=   0.6s\n",
      "[CV] END max_depth=None, min_samples_leaf=1, min_samples_split=10, n_estimators=100; total time=   0.6s\n",
      "[CV] END max_depth=None, min_samples_leaf=1, min_samples_split=10, n_estimators=200; total time=   1.3s\n",
      "[CV] END max_depth=None, min_samples_leaf=1, min_samples_split=10, n_estimators=300; total time=   2.0s\n",
      "[CV] END max_depth=None, min_samples_leaf=2, min_samples_split=2, n_estimators=200; total time=   1.3s\n",
      "[CV] END max_depth=None, min_samples_leaf=2, min_samples_split=2, n_estimators=300; total time=   1.9s\n",
      "[CV] END max_depth=None, min_samples_leaf=2, min_samples_split=5, n_estimators=200; total time=   1.3s\n",
      "[CV] END max_depth=None, min_samples_leaf=2, min_samples_split=5, n_estimators=300; total time=   2.0s\n",
      "[CV] END max_depth=None, min_samples_leaf=2, min_samples_split=10, n_estimators=300; total time=   1.9s\n",
      "[CV] END max_depth=None, min_samples_leaf=4, min_samples_split=2, n_estimators=100; total time=   0.6s\n",
      "[CV] END max_depth=None, min_samples_leaf=4, min_samples_split=2, n_estimators=200; total time=   1.3s\n",
      "[CV] END max_depth=None, min_samples_leaf=4, min_samples_split=5, n_estimators=100; total time=   0.7s\n",
      "[CV] END max_depth=None, min_samples_leaf=4, min_samples_split=5, n_estimators=100; total time=   0.9s\n",
      "[CV] END max_depth=None, min_samples_leaf=4, min_samples_split=5, n_estimators=200; total time=   1.5s\n",
      "[CV] END max_depth=None, min_samples_leaf=4, min_samples_split=5, n_estimators=300; total time=   1.9s\n",
      "[CV] END max_depth=None, min_samples_leaf=4, min_samples_split=10, n_estimators=300; total time=   1.9s\n",
      "[CV] END max_depth=10, min_samples_leaf=1, min_samples_split=2, n_estimators=100; total time=   0.7s\n",
      "[CV] END max_depth=10, min_samples_leaf=1, min_samples_split=2, n_estimators=200; total time=   1.3s\n",
      "[CV] END max_depth=10, min_samples_leaf=1, min_samples_split=2, n_estimators=300; total time=   1.9s\n",
      "[CV] END max_depth=10, min_samples_leaf=1, min_samples_split=5, n_estimators=200; total time=   1.3s\n",
      "[CV] END max_depth=10, min_samples_leaf=1, min_samples_split=10, n_estimators=100; total time=   0.6s\n",
      "[CV] END max_depth=10, min_samples_leaf=1, min_samples_split=10, n_estimators=100; total time=   0.6s\n",
      "[CV] END max_depth=10, min_samples_leaf=1, min_samples_split=10, n_estimators=200; total time=   1.2s\n",
      "[CV] END max_depth=10, min_samples_leaf=1, min_samples_split=10, n_estimators=300; total time=   1.9s\n",
      "[CV] END max_depth=10, min_samples_leaf=2, min_samples_split=2, n_estimators=200; total time=   1.3s\n",
      "[CV] END max_depth=10, min_samples_leaf=2, min_samples_split=5, n_estimators=100; total time=   0.6s\n",
      "[CV] END max_depth=10, min_samples_leaf=2, min_samples_split=5, n_estimators=100; total time=   0.6s\n",
      "[CV] END max_depth=10, min_samples_leaf=2, min_samples_split=5, n_estimators=200; total time=   1.3s\n",
      "[CV] END max_depth=10, min_samples_leaf=2, min_samples_split=5, n_estimators=300; total time=   1.9s\n",
      "[CV] END max_depth=10, min_samples_leaf=2, min_samples_split=10, n_estimators=200; total time=   1.3s\n",
      "[CV] END max_depth=10, min_samples_leaf=4, min_samples_split=2, n_estimators=100; total time=   0.6s\n",
      "[CV] END max_depth=10, min_samples_leaf=4, min_samples_split=2, n_estimators=100; total time=   0.6s\n",
      "[CV] END max_depth=10, min_samples_leaf=4, min_samples_split=2, n_estimators=200; total time=   1.2s\n",
      "[CV] END max_depth=10, min_samples_leaf=4, min_samples_split=2, n_estimators=300; total time=   1.9s\n",
      "[CV] END max_depth=10, min_samples_leaf=4, min_samples_split=5, n_estimators=200; total time=   1.3s\n",
      "[CV] END max_depth=10, min_samples_leaf=4, min_samples_split=10, n_estimators=100; total time=   0.6s\n",
      "[CV] END max_depth=10, min_samples_leaf=4, min_samples_split=10, n_estimators=100; total time=   0.6s\n",
      "[CV] END max_depth=10, min_samples_leaf=4, min_samples_split=10, n_estimators=200; total time=   1.2s\n",
      "[CV] END max_depth=10, min_samples_leaf=4, min_samples_split=10, n_estimators=300; total time=   2.2s\n",
      "[CV] END max_depth=20, min_samples_leaf=1, min_samples_split=2, n_estimators=200; total time=   1.6s\n",
      "[CV] END max_depth=20, min_samples_leaf=1, min_samples_split=5, n_estimators=100; total time=   0.6s\n",
      "[CV] END max_depth=20, min_samples_leaf=1, min_samples_split=5, n_estimators=100; total time=   0.6s\n",
      "[CV] END max_depth=20, min_samples_leaf=1, min_samples_split=5, n_estimators=200; total time=   1.3s\n",
      "[CV] END max_depth=20, min_samples_leaf=1, min_samples_split=5, n_estimators=300; total time=   1.9s\n",
      "[CV] END max_depth=20, min_samples_leaf=1, min_samples_split=10, n_estimators=200; total time=   1.3s\n",
      "[CV] END max_depth=20, min_samples_leaf=2, min_samples_split=2, n_estimators=100; total time=   0.6s\n",
      "[CV] END max_depth=20, min_samples_leaf=2, min_samples_split=2, n_estimators=100; total time=   0.6s\n",
      "[CV] END max_depth=20, min_samples_leaf=2, min_samples_split=2, n_estimators=200; total time=   1.3s\n",
      "[CV] END max_depth=20, min_samples_leaf=2, min_samples_split=2, n_estimators=300; total time=   1.9s\n",
      "[CV] END max_depth=20, min_samples_leaf=2, min_samples_split=5, n_estimators=200; total time=   1.3s\n",
      "[CV] END max_depth=20, min_samples_leaf=2, min_samples_split=10, n_estimators=100; total time=   0.7s\n",
      "[CV] END max_depth=20, min_samples_leaf=2, min_samples_split=10, n_estimators=100; total time=   0.6s\n",
      "[CV] END max_depth=20, min_samples_leaf=2, min_samples_split=10, n_estimators=200; total time=   1.3s\n",
      "[CV] END max_depth=20, min_samples_leaf=2, min_samples_split=10, n_estimators=300; total time=   1.9s\n",
      "[CV] END max_depth=20, min_samples_leaf=4, min_samples_split=2, n_estimators=200; total time=   1.3s\n",
      "[CV] END max_depth=20, min_samples_leaf=4, min_samples_split=5, n_estimators=100; total time=   0.6s\n",
      "[CV] END max_depth=20, min_samples_leaf=4, min_samples_split=5, n_estimators=100; total time=   0.6s\n",
      "[CV] END max_depth=20, min_samples_leaf=4, min_samples_split=5, n_estimators=200; total time=   1.3s\n",
      "[CV] END max_depth=20, min_samples_leaf=4, min_samples_split=5, n_estimators=300; total time=   1.9s\n",
      "[CV] END max_depth=20, min_samples_leaf=4, min_samples_split=10, n_estimators=200; total time=   1.3s\n",
      "[CV] END max_depth=30, min_samples_leaf=1, min_samples_split=2, n_estimators=100; total time=   0.6s\n",
      "[CV] END max_depth=30, min_samples_leaf=1, min_samples_split=2, n_estimators=100; total time=   0.6s\n",
      "[CV] END max_depth=30, min_samples_leaf=1, min_samples_split=2, n_estimators=200; total time=   1.3s\n",
      "[CV] END max_depth=30, min_samples_leaf=1, min_samples_split=2, n_estimators=300; total time=   1.9s\n",
      "[CV] END max_depth=30, min_samples_leaf=1, min_samples_split=5, n_estimators=200; total time=   1.3s\n",
      "[CV] END max_depth=30, min_samples_leaf=1, min_samples_split=10, n_estimators=100; total time=   0.7s\n",
      "[CV] END max_depth=30, min_samples_leaf=1, min_samples_split=10, n_estimators=100; total time=   0.9s\n",
      "[CV] END max_depth=30, min_samples_leaf=1, min_samples_split=10, n_estimators=200; total time=   1.7s\n",
      "[CV] END max_depth=30, min_samples_leaf=1, min_samples_split=10, n_estimators=300; total time=   2.0s\n",
      "[CV] END max_depth=30, min_samples_leaf=2, min_samples_split=2, n_estimators=300; total time=   1.9s\n",
      "[CV] END max_depth=30, min_samples_leaf=2, min_samples_split=5, n_estimators=100; total time=   0.7s\n",
      "[CV] END max_depth=30, min_samples_leaf=2, min_samples_split=5, n_estimators=200; total time=   1.3s\n",
      "[CV] END max_depth=30, min_samples_leaf=2, min_samples_split=5, n_estimators=300; total time=   2.0s\n",
      "[CV] END max_depth=30, min_samples_leaf=2, min_samples_split=10, n_estimators=300; total time=   1.9s\n",
      "[CV] END max_depth=30, min_samples_leaf=4, min_samples_split=2, n_estimators=100; total time=   0.7s\n",
      "[CV] END max_depth=None, min_samples_leaf=1, min_samples_split=2, n_estimators=100; total time=   0.7s\n",
      "[CV] END max_depth=None, min_samples_leaf=1, min_samples_split=2, n_estimators=300; total time=   1.9s\n",
      "[CV] END max_depth=None, min_samples_leaf=1, min_samples_split=5, n_estimators=100; total time=   0.7s\n",
      "[CV] END max_depth=None, min_samples_leaf=1, min_samples_split=5, n_estimators=200; total time=   1.3s\n",
      "[CV] END max_depth=None, min_samples_leaf=1, min_samples_split=5, n_estimators=300; total time=   2.0s\n",
      "[CV] END max_depth=None, min_samples_leaf=1, min_samples_split=10, n_estimators=200; total time=   1.4s\n",
      "[CV] END max_depth=None, min_samples_leaf=2, min_samples_split=2, n_estimators=100; total time=   0.7s\n",
      "[CV] END max_depth=None, min_samples_leaf=2, min_samples_split=2, n_estimators=100; total time=   0.7s\n",
      "[CV] END max_depth=None, min_samples_leaf=2, min_samples_split=2, n_estimators=200; total time=   1.4s\n",
      "[CV] END max_depth=None, min_samples_leaf=2, min_samples_split=5, n_estimators=100; total time=   0.6s\n",
      "[CV] END max_depth=None, min_samples_leaf=2, min_samples_split=5, n_estimators=100; total time=   0.6s\n",
      "[CV] END max_depth=None, min_samples_leaf=2, min_samples_split=5, n_estimators=200; total time=   1.3s\n",
      "[CV] END max_depth=None, min_samples_leaf=2, min_samples_split=5, n_estimators=300; total time=   1.9s\n",
      "[CV] END max_depth=None, min_samples_leaf=2, min_samples_split=10, n_estimators=200; total time=   1.3s\n",
      "[CV] END max_depth=None, min_samples_leaf=4, min_samples_split=2, n_estimators=100; total time=   0.6s\n",
      "[CV] END max_depth=None, min_samples_leaf=4, min_samples_split=2, n_estimators=100; total time=   0.7s\n",
      "[CV] END max_depth=None, min_samples_leaf=4, min_samples_split=2, n_estimators=200; total time=   1.3s\n",
      "[CV] END max_depth=None, min_samples_leaf=4, min_samples_split=2, n_estimators=300; total time=   2.5s\n",
      "[CV] END max_depth=None, min_samples_leaf=4, min_samples_split=5, n_estimators=200; total time=   1.4s\n",
      "[CV] END max_depth=None, min_samples_leaf=4, min_samples_split=10, n_estimators=100; total time=   0.6s\n",
      "[CV] END max_depth=None, min_samples_leaf=4, min_samples_split=10, n_estimators=100; total time=   0.6s\n",
      "[CV] END max_depth=None, min_samples_leaf=4, min_samples_split=10, n_estimators=200; total time=   1.3s\n",
      "[CV] END max_depth=None, min_samples_leaf=4, min_samples_split=10, n_estimators=300; total time=   2.0s\n",
      "[CV] END max_depth=10, min_samples_leaf=1, min_samples_split=2, n_estimators=300; total time=   1.9s\n",
      "[CV] END max_depth=10, min_samples_leaf=1, min_samples_split=5, n_estimators=100; total time=   0.6s\n",
      "[CV] END max_depth=10, min_samples_leaf=1, min_samples_split=5, n_estimators=200; total time=   1.3s\n",
      "[CV] END max_depth=10, min_samples_leaf=1, min_samples_split=5, n_estimators=300; total time=   1.9s\n",
      "[CV] END max_depth=10, min_samples_leaf=1, min_samples_split=10, n_estimators=300; total time=   1.9s\n",
      "[CV] END max_depth=10, min_samples_leaf=2, min_samples_split=2, n_estimators=100; total time=   0.6s\n",
      "[CV] END max_depth=10, min_samples_leaf=2, min_samples_split=2, n_estimators=200; total time=   1.3s\n",
      "[CV] END max_depth=10, min_samples_leaf=2, min_samples_split=2, n_estimators=300; total time=   2.0s\n",
      "[CV] END max_depth=10, min_samples_leaf=2, min_samples_split=5, n_estimators=300; total time=   1.9s\n",
      "[CV] END max_depth=10, min_samples_leaf=2, min_samples_split=10, n_estimators=100; total time=   0.6s\n",
      "[CV] END max_depth=10, min_samples_leaf=2, min_samples_split=10, n_estimators=200; total time=   1.3s\n",
      "[CV] END max_depth=10, min_samples_leaf=2, min_samples_split=10, n_estimators=300; total time=   1.9s\n",
      "[CV] END max_depth=10, min_samples_leaf=4, min_samples_split=2, n_estimators=300; total time=   1.9s\n",
      "[CV] END max_depth=10, min_samples_leaf=4, min_samples_split=5, n_estimators=100; total time=   0.7s\n",
      "[CV] END max_depth=10, min_samples_leaf=4, min_samples_split=5, n_estimators=200; total time=   1.3s\n",
      "[CV] END max_depth=10, min_samples_leaf=4, min_samples_split=5, n_estimators=300; total time=   1.9s\n",
      "[CV] END max_depth=10, min_samples_leaf=4, min_samples_split=10, n_estimators=300; total time=   1.9s\n",
      "[CV] END max_depth=20, min_samples_leaf=1, min_samples_split=2, n_estimators=100; total time=   0.9s\n",
      "[CV] END max_depth=20, min_samples_leaf=1, min_samples_split=2, n_estimators=200; total time=   1.3s\n",
      "[CV] END max_depth=20, min_samples_leaf=1, min_samples_split=2, n_estimators=300; total time=   2.0s\n",
      "[CV] END max_depth=20, min_samples_leaf=1, min_samples_split=5, n_estimators=200; total time=   1.3s\n",
      "[CV] END max_depth=20, min_samples_leaf=1, min_samples_split=5, n_estimators=300; total time=   2.0s\n",
      "[CV] END max_depth=20, min_samples_leaf=1, min_samples_split=10, n_estimators=300; total time=   1.9s\n",
      "[CV] END max_depth=20, min_samples_leaf=2, min_samples_split=2, n_estimators=100; total time=   0.7s\n",
      "[CV] END max_depth=20, min_samples_leaf=2, min_samples_split=2, n_estimators=200; total time=   1.3s\n",
      "[CV] END max_depth=20, min_samples_leaf=2, min_samples_split=5, n_estimators=100; total time=   0.6s\n",
      "[CV] END max_depth=20, min_samples_leaf=2, min_samples_split=5, n_estimators=100; total time=   0.6s\n",
      "[CV] END max_depth=20, min_samples_leaf=2, min_samples_split=5, n_estimators=200; total time=   1.3s\n",
      "[CV] END max_depth=20, min_samples_leaf=2, min_samples_split=5, n_estimators=300; total time=   1.9s\n",
      "[CV] END max_depth=20, min_samples_leaf=2, min_samples_split=10, n_estimators=200; total time=   1.3s\n",
      "[CV] END max_depth=20, min_samples_leaf=4, min_samples_split=2, n_estimators=100; total time=   0.6s\n",
      "[CV] END max_depth=20, min_samples_leaf=4, min_samples_split=2, n_estimators=100; total time=   0.6s\n",
      "[CV] END max_depth=20, min_samples_leaf=4, min_samples_split=2, n_estimators=200; total time=   1.3s\n",
      "[CV] END max_depth=20, min_samples_leaf=4, min_samples_split=2, n_estimators=300; total time=   1.9s\n",
      "[CV] END max_depth=20, min_samples_leaf=4, min_samples_split=5, n_estimators=200; total time=   1.3s\n",
      "[CV] END max_depth=20, min_samples_leaf=4, min_samples_split=10, n_estimators=100; total time=   0.6s\n",
      "[CV] END max_depth=20, min_samples_leaf=4, min_samples_split=10, n_estimators=100; total time=   0.6s\n",
      "[CV] END max_depth=20, min_samples_leaf=4, min_samples_split=10, n_estimators=200; total time=   1.3s\n",
      "[CV] END max_depth=20, min_samples_leaf=4, min_samples_split=10, n_estimators=300; total time=   1.9s\n",
      "[CV] END max_depth=30, min_samples_leaf=1, min_samples_split=2, n_estimators=200; total time=   1.3s\n",
      "[CV] END max_depth=30, min_samples_leaf=1, min_samples_split=5, n_estimators=100; total time=   0.7s\n",
      "[CV] END max_depth=30, min_samples_leaf=1, min_samples_split=5, n_estimators=100; total time=   0.7s\n",
      "[CV] END max_depth=30, min_samples_leaf=1, min_samples_split=5, n_estimators=200; total time=   1.3s\n",
      "[CV] END max_depth=30, min_samples_leaf=1, min_samples_split=5, n_estimators=300; total time=   2.1s\n",
      "[CV] END max_depth=30, min_samples_leaf=1, min_samples_split=10, n_estimators=200; total time=   1.3s\n",
      "[CV] END max_depth=30, min_samples_leaf=1, min_samples_split=10, n_estimators=300; total time=   2.0s\n",
      "[CV] END max_depth=30, min_samples_leaf=2, min_samples_split=2, n_estimators=200; total time=   1.3s\n",
      "[CV] END max_depth=30, min_samples_leaf=2, min_samples_split=5, n_estimators=100; total time=   0.7s\n",
      "[CV] END max_depth=30, min_samples_leaf=2, min_samples_split=5, n_estimators=100; total time=   0.6s\n",
      "[CV] END max_depth=30, min_samples_leaf=2, min_samples_split=5, n_estimators=200; total time=   1.3s\n",
      "[CV] END max_depth=30, min_samples_leaf=2, min_samples_split=5, n_estimators=300; total time=   1.9s\n",
      "[CV] END max_depth=30, min_samples_leaf=2, min_samples_split=10, n_estimators=200; total time=   1.3s\n",
      "[CV] END max_depth=30, min_samples_leaf=4, min_samples_split=2, n_estimators=100; total time=   0.6s\n",
      "[CV] END max_depth=30, min_samples_leaf=4, min_samples_split=2, n_estimators=100; total time=   0.7s\n",
      "[CV] END max_depth=30, min_samples_leaf=4, min_samples_split=2, n_estimators=200; total time=   1.3s\n",
      "[CV] END max_depth=30, min_samples_leaf=4, min_samples_split=2, n_estimators=300; total time=   1.9s\n",
      "[CV] END max_depth=30, min_samples_leaf=4, min_samples_split=5, n_estimators=200; total time=   1.3s\n",
      "[CV] END max_depth=None, min_samples_leaf=1, min_samples_split=2, n_estimators=100; total time=   0.7s\n",
      "[CV] END max_depth=None, min_samples_leaf=1, min_samples_split=2, n_estimators=200; total time=   1.3s\n",
      "[CV] END max_depth=None, min_samples_leaf=1, min_samples_split=2, n_estimators=300; total time=   2.0s\n",
      "[CV] END max_depth=None, min_samples_leaf=1, min_samples_split=5, n_estimators=300; total time=   1.9s\n",
      "[CV] END max_depth=None, min_samples_leaf=1, min_samples_split=10, n_estimators=100; total time=   0.7s\n",
      "[CV] END max_depth=None, min_samples_leaf=1, min_samples_split=10, n_estimators=300; total time=   2.0s\n",
      "[CV] END max_depth=None, min_samples_leaf=2, min_samples_split=2, n_estimators=100; total time=   0.7s\n",
      "[CV] END max_depth=None, min_samples_leaf=2, min_samples_split=2, n_estimators=200; total time=   1.3s\n",
      "[CV] END max_depth=None, min_samples_leaf=2, min_samples_split=2, n_estimators=300; total time=   2.0s\n",
      "[CV] END max_depth=None, min_samples_leaf=2, min_samples_split=5, n_estimators=300; total time=   1.9s\n",
      "[CV] END max_depth=None, min_samples_leaf=2, min_samples_split=10, n_estimators=100; total time=   0.7s\n",
      "[CV] END max_depth=None, min_samples_leaf=2, min_samples_split=10, n_estimators=200; total time=   1.3s\n",
      "[CV] END max_depth=None, min_samples_leaf=2, min_samples_split=10, n_estimators=300; total time=   2.0s\n",
      "[CV] END max_depth=None, min_samples_leaf=4, min_samples_split=2, n_estimators=300; total time=   1.9s\n",
      "[CV] END max_depth=None, min_samples_leaf=4, min_samples_split=5, n_estimators=100; total time=   0.7s\n",
      "[CV] END max_depth=None, min_samples_leaf=4, min_samples_split=5, n_estimators=200; total time=   1.3s\n",
      "[CV] END max_depth=None, min_samples_leaf=4, min_samples_split=5, n_estimators=300; total time=   1.9s\n",
      "[CV] END max_depth=None, min_samples_leaf=4, min_samples_split=10, n_estimators=200; total time=   1.3s\n",
      "[CV] END max_depth=None, min_samples_leaf=4, min_samples_split=10, n_estimators=300; total time=   1.9s\n",
      "[CV] END max_depth=10, min_samples_leaf=1, min_samples_split=2, n_estimators=200; total time=   1.3s\n",
      "[CV] END max_depth=10, min_samples_leaf=1, min_samples_split=5, n_estimators=100; total time=   0.6s\n",
      "[CV] END max_depth=10, min_samples_leaf=1, min_samples_split=5, n_estimators=100; total time=   0.6s\n",
      "[CV] END max_depth=10, min_samples_leaf=1, min_samples_split=5, n_estimators=200; total time=   1.3s\n",
      "[CV] END max_depth=10, min_samples_leaf=1, min_samples_split=5, n_estimators=300; total time=   1.9s\n",
      "[CV] END max_depth=10, min_samples_leaf=1, min_samples_split=10, n_estimators=200; total time=   1.3s\n",
      "[CV] END max_depth=10, min_samples_leaf=2, min_samples_split=2, n_estimators=100; total time=   0.6s\n",
      "[CV] END max_depth=10, min_samples_leaf=2, min_samples_split=2, n_estimators=100; total time=   0.6s\n",
      "[CV] END max_depth=10, min_samples_leaf=2, min_samples_split=2, n_estimators=200; total time=   1.2s\n",
      "[CV] END max_depth=10, min_samples_leaf=2, min_samples_split=2, n_estimators=300; total time=   1.9s\n",
      "[CV] END max_depth=10, min_samples_leaf=2, min_samples_split=5, n_estimators=200; total time=   1.3s\n",
      "[CV] END max_depth=10, min_samples_leaf=2, min_samples_split=5, n_estimators=300; total time=   1.9s\n",
      "[CV] END max_depth=10, min_samples_leaf=2, min_samples_split=10, n_estimators=300; total time=   1.9s\n",
      "[CV] END max_depth=10, min_samples_leaf=4, min_samples_split=2, n_estimators=100; total time=   0.6s\n",
      "[CV] END max_depth=10, min_samples_leaf=4, min_samples_split=2, n_estimators=200; total time=   1.3s\n",
      "[CV] END max_depth=10, min_samples_leaf=4, min_samples_split=5, n_estimators=100; total time=   0.6s\n",
      "[CV] END max_depth=10, min_samples_leaf=4, min_samples_split=5, n_estimators=100; total time=   0.6s\n",
      "[CV] END max_depth=10, min_samples_leaf=4, min_samples_split=5, n_estimators=200; total time=   1.3s\n",
      "[CV] END max_depth=10, min_samples_leaf=4, min_samples_split=5, n_estimators=300; total time=   1.9s\n",
      "[CV] END max_depth=10, min_samples_leaf=4, min_samples_split=10, n_estimators=200; total time=   1.3s\n",
      "[CV] END max_depth=20, min_samples_leaf=1, min_samples_split=2, n_estimators=100; total time=   0.6s\n",
      "[CV] END max_depth=20, min_samples_leaf=1, min_samples_split=2, n_estimators=100; total time=   0.7s\n",
      "[CV] END max_depth=20, min_samples_leaf=1, min_samples_split=2, n_estimators=200; total time=   1.7s\n",
      "[CV] END max_depth=20, min_samples_leaf=1, min_samples_split=2, n_estimators=300; total time=   2.0s\n",
      "[CV] END max_depth=20, min_samples_leaf=1, min_samples_split=5, n_estimators=200; total time=   1.3s\n",
      "[CV] END max_depth=20, min_samples_leaf=1, min_samples_split=10, n_estimators=100; total time=   0.6s\n",
      "[CV] END max_depth=20, min_samples_leaf=1, min_samples_split=10, n_estimators=100; total time=   0.6s\n",
      "[CV] END max_depth=20, min_samples_leaf=1, min_samples_split=10, n_estimators=200; total time=   1.2s\n",
      "[CV] END max_depth=20, min_samples_leaf=1, min_samples_split=10, n_estimators=300; total time=   1.9s\n",
      "[CV] END max_depth=20, min_samples_leaf=2, min_samples_split=2, n_estimators=200; total time=   1.3s\n",
      "[CV] END max_depth=20, min_samples_leaf=2, min_samples_split=2, n_estimators=300; total time=   1.9s\n",
      "[CV] END max_depth=20, min_samples_leaf=2, min_samples_split=5, n_estimators=300; total time=   1.9s\n",
      "[CV] END max_depth=20, min_samples_leaf=2, min_samples_split=10, n_estimators=100; total time=   0.6s\n",
      "[CV] END max_depth=20, min_samples_leaf=2, min_samples_split=10, n_estimators=200; total time=   1.3s\n",
      "[CV] END max_depth=20, min_samples_leaf=2, min_samples_split=10, n_estimators=300; total time=   1.9s\n",
      "[CV] END max_depth=20, min_samples_leaf=4, min_samples_split=2, n_estimators=300; total time=   1.9s\n",
      "[CV] END max_depth=20, min_samples_leaf=4, min_samples_split=5, n_estimators=100; total time=   0.6s\n",
      "[CV] END max_depth=20, min_samples_leaf=4, min_samples_split=5, n_estimators=200; total time=   1.3s\n",
      "[CV] END max_depth=20, min_samples_leaf=4, min_samples_split=5, n_estimators=300; total time=   1.9s\n",
      "[CV] END max_depth=20, min_samples_leaf=4, min_samples_split=10, n_estimators=300; total time=   1.9s\n",
      "[CV] END max_depth=30, min_samples_leaf=1, min_samples_split=2, n_estimators=100; total time=   0.6s\n",
      "[CV] END max_depth=30, min_samples_leaf=1, min_samples_split=2, n_estimators=200; total time=   1.3s\n",
      "[CV] END max_depth=30, min_samples_leaf=1, min_samples_split=2, n_estimators=300; total time=   2.0s\n",
      "[CV] END max_depth=30, min_samples_leaf=1, min_samples_split=5, n_estimators=300; total time=   2.0s\n",
      "[CV] END max_depth=30, min_samples_leaf=1, min_samples_split=10, n_estimators=100; total time=   0.9s\n",
      "[CV] END max_depth=30, min_samples_leaf=1, min_samples_split=10, n_estimators=200; total time=   1.6s\n",
      "[CV] END max_depth=30, min_samples_leaf=2, min_samples_split=2, n_estimators=100; total time=   0.7s\n",
      "[CV] END max_depth=30, min_samples_leaf=2, min_samples_split=2, n_estimators=100; total time=   0.6s\n",
      "[CV] END max_depth=30, min_samples_leaf=2, min_samples_split=2, n_estimators=200; total time=   1.3s\n",
      "[CV] END max_depth=30, min_samples_leaf=2, min_samples_split=2, n_estimators=300; total time=   2.0s\n",
      "[CV] END max_depth=30, min_samples_leaf=2, min_samples_split=5, n_estimators=200; total time=   1.3s\n",
      "[CV] END max_depth=30, min_samples_leaf=2, min_samples_split=10, n_estimators=100; total time=   0.6s\n",
      "[CV] END max_depth=30, min_samples_leaf=2, min_samples_split=10, n_estimators=100; total time=   0.6s\n",
      "[CV] END max_depth=30, min_samples_leaf=2, min_samples_split=10, n_estimators=200; total time=   1.3s\n",
      "[CV] END max_depth=30, min_samples_leaf=2, min_samples_split=10, n_estimators=300; total time=   2.0s\n",
      "[CV] END max_depth=30, min_samples_leaf=4, min_samples_split=2, n_estimators=200; total time=   1.3s\n",
      "[CV] END max_depth=30, min_samples_leaf=4, min_samples_split=5, n_estimators=100; total time=   0.6s\n",
      "[CV] END max_depth=30, min_samples_leaf=4, min_samples_split=5, n_estimators=100; total time=   0.6s\n",
      "[CV] END max_depth=30, min_samples_leaf=4, min_samples_split=5, n_estimators=200; total time=   1.3s\n",
      "[CV] END max_depth=30, min_samples_leaf=4, min_samples_split=5, n_estimators=300; total time=   1.9s\n",
      "[CV] END max_depth=30, min_samples_leaf=4, min_samples_split=10, n_estimators=200; total time=   1.3s\n"
     ]
    },
    {
     "data": {
      "text/html": [
       "<style>#sk-container-id-1 {color: black;background-color: white;}#sk-container-id-1 pre{padding: 0;}#sk-container-id-1 div.sk-toggleable {background-color: white;}#sk-container-id-1 label.sk-toggleable__label {cursor: pointer;display: block;width: 100%;margin-bottom: 0;padding: 0.3em;box-sizing: border-box;text-align: center;}#sk-container-id-1 label.sk-toggleable__label-arrow:before {content: \"▸\";float: left;margin-right: 0.25em;color: #696969;}#sk-container-id-1 label.sk-toggleable__label-arrow:hover:before {color: black;}#sk-container-id-1 div.sk-estimator:hover label.sk-toggleable__label-arrow:before {color: black;}#sk-container-id-1 div.sk-toggleable__content {max-height: 0;max-width: 0;overflow: hidden;text-align: left;background-color: #f0f8ff;}#sk-container-id-1 div.sk-toggleable__content pre {margin: 0.2em;color: black;border-radius: 0.25em;background-color: #f0f8ff;}#sk-container-id-1 input.sk-toggleable__control:checked~div.sk-toggleable__content {max-height: 200px;max-width: 100%;overflow: auto;}#sk-container-id-1 input.sk-toggleable__control:checked~label.sk-toggleable__label-arrow:before {content: \"▾\";}#sk-container-id-1 div.sk-estimator input.sk-toggleable__control:checked~label.sk-toggleable__label {background-color: #d4ebff;}#sk-container-id-1 div.sk-label input.sk-toggleable__control:checked~label.sk-toggleable__label {background-color: #d4ebff;}#sk-container-id-1 input.sk-hidden--visually {border: 0;clip: rect(1px 1px 1px 1px);clip: rect(1px, 1px, 1px, 1px);height: 1px;margin: -1px;overflow: hidden;padding: 0;position: absolute;width: 1px;}#sk-container-id-1 div.sk-estimator {font-family: monospace;background-color: #f0f8ff;border: 1px dotted black;border-radius: 0.25em;box-sizing: border-box;margin-bottom: 0.5em;}#sk-container-id-1 div.sk-estimator:hover {background-color: #d4ebff;}#sk-container-id-1 div.sk-parallel-item::after {content: \"\";width: 100%;border-bottom: 1px solid gray;flex-grow: 1;}#sk-container-id-1 div.sk-label:hover label.sk-toggleable__label {background-color: #d4ebff;}#sk-container-id-1 div.sk-serial::before {content: \"\";position: absolute;border-left: 1px solid gray;box-sizing: border-box;top: 0;bottom: 0;left: 50%;z-index: 0;}#sk-container-id-1 div.sk-serial {display: flex;flex-direction: column;align-items: center;background-color: white;padding-right: 0.2em;padding-left: 0.2em;position: relative;}#sk-container-id-1 div.sk-item {position: relative;z-index: 1;}#sk-container-id-1 div.sk-parallel {display: flex;align-items: stretch;justify-content: center;background-color: white;position: relative;}#sk-container-id-1 div.sk-item::before, #sk-container-id-1 div.sk-parallel-item::before {content: \"\";position: absolute;border-left: 1px solid gray;box-sizing: border-box;top: 0;bottom: 0;left: 50%;z-index: -1;}#sk-container-id-1 div.sk-parallel-item {display: flex;flex-direction: column;z-index: 1;position: relative;background-color: white;}#sk-container-id-1 div.sk-parallel-item:first-child::after {align-self: flex-end;width: 50%;}#sk-container-id-1 div.sk-parallel-item:last-child::after {align-self: flex-start;width: 50%;}#sk-container-id-1 div.sk-parallel-item:only-child::after {width: 0;}#sk-container-id-1 div.sk-dashed-wrapped {border: 1px dashed gray;margin: 0 0.4em 0.5em 0.4em;box-sizing: border-box;padding-bottom: 0.4em;background-color: white;}#sk-container-id-1 div.sk-label label {font-family: monospace;font-weight: bold;display: inline-block;line-height: 1.2em;}#sk-container-id-1 div.sk-label-container {text-align: center;}#sk-container-id-1 div.sk-container {/* jupyter's `normalize.less` sets `[hidden] { display: none; }` but bootstrap.min.css set `[hidden] { display: none !important; }` so we also need the `!important` here to be able to override the default hidden behavior on the sphinx rendered scikit-learn.org. See: https://github.com/scikit-learn/scikit-learn/issues/21755 */display: inline-block !important;position: relative;}#sk-container-id-1 div.sk-text-repr-fallback {display: none;}</style><div id=\"sk-container-id-1\" class=\"sk-top-container\"><div class=\"sk-text-repr-fallback\"><pre>GridSearchCV(cv=3, estimator=RandomForestClassifier(random_state=42), n_jobs=-1,\n",
       "             param_grid={&#x27;max_depth&#x27;: [None, 10, 20, 30],\n",
       "                         &#x27;min_samples_leaf&#x27;: [1, 2, 4],\n",
       "                         &#x27;min_samples_split&#x27;: [2, 5, 10],\n",
       "                         &#x27;n_estimators&#x27;: [100, 200, 300]},\n",
       "             verbose=2)</pre><b>In a Jupyter environment, please rerun this cell to show the HTML representation or trust the notebook. <br />On GitHub, the HTML representation is unable to render, please try loading this page with nbviewer.org.</b></div><div class=\"sk-container\" hidden><div class=\"sk-item sk-dashed-wrapped\"><div class=\"sk-label-container\"><div class=\"sk-label sk-toggleable\"><input class=\"sk-toggleable__control sk-hidden--visually\" id=\"sk-estimator-id-1\" type=\"checkbox\" ><label for=\"sk-estimator-id-1\" class=\"sk-toggleable__label sk-toggleable__label-arrow\">GridSearchCV</label><div class=\"sk-toggleable__content\"><pre>GridSearchCV(cv=3, estimator=RandomForestClassifier(random_state=42), n_jobs=-1,\n",
       "             param_grid={&#x27;max_depth&#x27;: [None, 10, 20, 30],\n",
       "                         &#x27;min_samples_leaf&#x27;: [1, 2, 4],\n",
       "                         &#x27;min_samples_split&#x27;: [2, 5, 10],\n",
       "                         &#x27;n_estimators&#x27;: [100, 200, 300]},\n",
       "             verbose=2)</pre></div></div></div><div class=\"sk-parallel\"><div class=\"sk-parallel-item\"><div class=\"sk-item\"><div class=\"sk-label-container\"><div class=\"sk-label sk-toggleable\"><input class=\"sk-toggleable__control sk-hidden--visually\" id=\"sk-estimator-id-2\" type=\"checkbox\" ><label for=\"sk-estimator-id-2\" class=\"sk-toggleable__label sk-toggleable__label-arrow\">estimator: RandomForestClassifier</label><div class=\"sk-toggleable__content\"><pre>RandomForestClassifier(random_state=42)</pre></div></div></div><div class=\"sk-serial\"><div class=\"sk-item\"><div class=\"sk-estimator sk-toggleable\"><input class=\"sk-toggleable__control sk-hidden--visually\" id=\"sk-estimator-id-3\" type=\"checkbox\" ><label for=\"sk-estimator-id-3\" class=\"sk-toggleable__label sk-toggleable__label-arrow\">RandomForestClassifier</label><div class=\"sk-toggleable__content\"><pre>RandomForestClassifier(random_state=42)</pre></div></div></div></div></div></div></div></div></div></div>"
      ],
      "text/plain": [
       "GridSearchCV(cv=3, estimator=RandomForestClassifier(random_state=42), n_jobs=-1,\n",
       "             param_grid={'max_depth': [None, 10, 20, 30],\n",
       "                         'min_samples_leaf': [1, 2, 4],\n",
       "                         'min_samples_split': [2, 5, 10],\n",
       "                         'n_estimators': [100, 200, 300]},\n",
       "             verbose=2)"
      ]
     },
     "execution_count": 39,
     "metadata": {},
     "output_type": "execute_result"
    }
   ],
   "source": [
    "grid_search.fit(X_train, y_train)"
   ]
  },
  {
   "cell_type": "code",
   "execution_count": 40,
   "id": "89b1a060",
   "metadata": {
    "execution": {
     "iopub.execute_input": "2024-06-20T06:24:31.115290Z",
     "iopub.status.busy": "2024-06-20T06:24:31.114891Z",
     "iopub.status.idle": "2024-06-20T06:24:31.120820Z",
     "shell.execute_reply": "2024-06-20T06:24:31.119467Z"
    },
    "papermill": {
     "duration": 0.029958,
     "end_time": "2024-06-20T06:24:31.124633",
     "exception": false,
     "start_time": "2024-06-20T06:24:31.094675",
     "status": "completed"
    },
    "tags": []
   },
   "outputs": [
    {
     "name": "stdout",
     "output_type": "stream",
     "text": [
      "Best parameters for Random Forest: {'max_depth': None, 'min_samples_leaf': 1, 'min_samples_split': 5, 'n_estimators': 100}\n"
     ]
    }
   ],
   "source": [
    "# Getting the best parameters\n",
    "best_params = grid_search.best_params_\n",
    "print(f'Best parameters for Random Forest: {best_params}')"
   ]
  },
  {
   "cell_type": "markdown",
   "id": "ce015e9d",
   "metadata": {
    "papermill": {
     "duration": 0.025425,
     "end_time": "2024-06-20T06:24:31.175226",
     "exception": false,
     "start_time": "2024-06-20T06:24:31.149801",
     "status": "completed"
    },
    "tags": []
   },
   "source": [
    "# Cross-Validation\n",
    "**Perform cross-validation to evaluate the model's performance more robustly**"
   ]
  },
  {
   "cell_type": "code",
   "execution_count": 41,
   "id": "03bde177",
   "metadata": {
    "execution": {
     "iopub.execute_input": "2024-06-20T06:24:31.218904Z",
     "iopub.status.busy": "2024-06-20T06:24:31.218506Z",
     "iopub.status.idle": "2024-06-20T06:24:31.223375Z",
     "shell.execute_reply": "2024-06-20T06:24:31.222284Z"
    },
    "papermill": {
     "duration": 0.026574,
     "end_time": "2024-06-20T06:24:31.225577",
     "exception": false,
     "start_time": "2024-06-20T06:24:31.199003",
     "status": "completed"
    },
    "tags": []
   },
   "outputs": [],
   "source": [
    "from sklearn.model_selection import cross_val_score"
   ]
  },
  {
   "cell_type": "code",
   "execution_count": 42,
   "id": "682d9159",
   "metadata": {
    "execution": {
     "iopub.execute_input": "2024-06-20T06:24:31.263754Z",
     "iopub.status.busy": "2024-06-20T06:24:31.263384Z",
     "iopub.status.idle": "2024-06-20T06:24:31.268083Z",
     "shell.execute_reply": "2024-06-20T06:24:31.266941Z"
    },
    "papermill": {
     "duration": 0.026236,
     "end_time": "2024-06-20T06:24:31.270138",
     "exception": false,
     "start_time": "2024-06-20T06:24:31.243902",
     "status": "completed"
    },
    "tags": []
   },
   "outputs": [],
   "source": [
    "# Used the best estimator from grid search\n",
    "best_rf = grid_search.best_estimator_"
   ]
  },
  {
   "cell_type": "code",
   "execution_count": 43,
   "id": "2507fcfd",
   "metadata": {
    "execution": {
     "iopub.execute_input": "2024-06-20T06:24:31.308817Z",
     "iopub.status.busy": "2024-06-20T06:24:31.307783Z",
     "iopub.status.idle": "2024-06-20T06:24:33.924943Z",
     "shell.execute_reply": "2024-06-20T06:24:33.923749Z"
    },
    "papermill": {
     "duration": 2.639083,
     "end_time": "2024-06-20T06:24:33.927381",
     "exception": false,
     "start_time": "2024-06-20T06:24:31.288298",
     "status": "completed"
    },
    "tags": []
   },
   "outputs": [],
   "source": [
    "cv_scores = cross_val_score(best_rf, X_train, y_train, cv=5)"
   ]
  },
  {
   "cell_type": "code",
   "execution_count": 44,
   "id": "630ff166",
   "metadata": {
    "execution": {
     "iopub.execute_input": "2024-06-20T06:24:33.966134Z",
     "iopub.status.busy": "2024-06-20T06:24:33.965477Z",
     "iopub.status.idle": "2024-06-20T06:24:33.971248Z",
     "shell.execute_reply": "2024-06-20T06:24:33.970282Z"
    },
    "papermill": {
     "duration": 0.027842,
     "end_time": "2024-06-20T06:24:33.973638",
     "exception": false,
     "start_time": "2024-06-20T06:24:33.945796",
     "status": "completed"
    },
    "tags": []
   },
   "outputs": [
    {
     "name": "stdout",
     "output_type": "stream",
     "text": [
      "Cross-validation scores: [0.99262295 0.99589828 0.99343724 0.99425759 0.99507793]\n",
      "Average cross-validation score: 0.9942587985314487\n"
     ]
    }
   ],
   "source": [
    "print(f'Cross-validation scores: {cv_scores}')\n",
    "print(f'Average cross-validation score: {cv_scores.mean()}')"
   ]
  },
  {
   "cell_type": "markdown",
   "id": "aa7b0e17",
   "metadata": {
    "papermill": {
     "duration": 0.018788,
     "end_time": "2024-06-20T06:24:34.010523",
     "exception": false,
     "start_time": "2024-06-20T06:24:33.991735",
     "status": "completed"
    },
    "tags": []
   },
   "source": [
    "# Model Interpretation\n",
    "**Understand the importance of each feature in the Random Forest model**"
   ]
  },
  {
   "cell_type": "code",
   "execution_count": 45,
   "id": "3b7f33c3",
   "metadata": {
    "execution": {
     "iopub.execute_input": "2024-06-20T06:24:34.049066Z",
     "iopub.status.busy": "2024-06-20T06:24:34.048190Z",
     "iopub.status.idle": "2024-06-20T06:24:34.053161Z",
     "shell.execute_reply": "2024-06-20T06:24:34.052194Z"
    },
    "papermill": {
     "duration": 0.026428,
     "end_time": "2024-06-20T06:24:34.055212",
     "exception": false,
     "start_time": "2024-06-20T06:24:34.028784",
     "status": "completed"
    },
    "tags": []
   },
   "outputs": [],
   "source": [
    "import numpy as np"
   ]
  },
  {
   "cell_type": "code",
   "execution_count": 46,
   "id": "6e1bfe35",
   "metadata": {
    "execution": {
     "iopub.execute_input": "2024-06-20T06:24:34.094177Z",
     "iopub.status.busy": "2024-06-20T06:24:34.093284Z",
     "iopub.status.idle": "2024-06-20T06:24:34.103224Z",
     "shell.execute_reply": "2024-06-20T06:24:34.102369Z"
    },
    "papermill": {
     "duration": 0.031648,
     "end_time": "2024-06-20T06:24:34.105467",
     "exception": false,
     "start_time": "2024-06-20T06:24:34.073819",
     "status": "completed"
    },
    "tags": []
   },
   "outputs": [],
   "source": [
    "importances = best_rf.feature_importances_\n",
    "features = X.columns\n",
    "indices = np.argsort(importances)[::-1]"
   ]
  },
  {
   "cell_type": "code",
   "execution_count": 47,
   "id": "a8b7f986",
   "metadata": {
    "execution": {
     "iopub.execute_input": "2024-06-20T06:24:34.144450Z",
     "iopub.status.busy": "2024-06-20T06:24:34.143416Z",
     "iopub.status.idle": "2024-06-20T06:24:34.149187Z",
     "shell.execute_reply": "2024-06-20T06:24:34.148217Z"
    },
    "papermill": {
     "duration": 0.028329,
     "end_time": "2024-06-20T06:24:34.152118",
     "exception": false,
     "start_time": "2024-06-20T06:24:34.123789",
     "status": "completed"
    },
    "tags": []
   },
   "outputs": [
    {
     "name": "stdout",
     "output_type": "stream",
     "text": [
      "director: 0.41719018467760727\n",
      "duration: 0.36543553076221746\n",
      "listed_in: 0.1509778727531167\n",
      "rating: 0.03102050474486809\n",
      "country: 0.014126765611874757\n",
      "release_year: 0.012039872234540193\n",
      "cast: 0.00920926921577561\n"
     ]
    }
   ],
   "source": [
    "for i in range(len(features)):\n",
    "    print(f'{features[indices[i]]}: {importances[indices[i]]}')"
   ]
  },
  {
   "cell_type": "code",
   "execution_count": 48,
   "id": "05fa9922",
   "metadata": {
    "execution": {
     "iopub.execute_input": "2024-06-20T06:24:34.190783Z",
     "iopub.status.busy": "2024-06-20T06:24:34.189904Z",
     "iopub.status.idle": "2024-06-20T06:24:34.519532Z",
     "shell.execute_reply": "2024-06-20T06:24:34.518502Z"
    },
    "papermill": {
     "duration": 0.35125,
     "end_time": "2024-06-20T06:24:34.521680",
     "exception": false,
     "start_time": "2024-06-20T06:24:34.170430",
     "status": "completed"
    },
    "tags": []
   },
   "outputs": [
    {
     "data": {
      "image/png": "[encoded data removed]",
      "text/plain": [
       "<Figure size 1000x600 with 1 Axes>"
      ]
     },
     "metadata": {},
     "output_type": "display_data"
    }
   ],
   "source": [
    "# Ploting feature importance\n",
    "plt.figure(figsize=(10, 6))\n",
    "plt.title('Feature Importance')\n",
    "plt.bar(range(X.shape[1]), importances[indices], align='center')\n",
    "plt.xticks(range(X.shape[1]), [features[i] for i in indices], rotation=90)\n",
    "plt.tight_layout()\n",
    "plt.show()"
   ]
  },
  {
   "cell_type": "markdown",
   "id": "73662184",
   "metadata": {
    "papermill": {
     "duration": 0.018351,
     "end_time": "2024-06-20T06:24:34.560159",
     "exception": false,
     "start_time": "2024-06-20T06:24:34.541808",
     "status": "completed"
    },
    "tags": []
   },
   "source": [
    "# Deployment part of the model \n",
    "**Saving the Model: Save the trained model using libraries like joblib or pickle.**"
   ]
  },
  {
   "cell_type": "code",
   "execution_count": 49,
   "id": "f9ff403d",
   "metadata": {
    "execution": {
     "iopub.execute_input": "2024-06-20T06:24:34.599096Z",
     "iopub.status.busy": "2024-06-20T06:24:34.598700Z",
     "iopub.status.idle": "2024-06-20T06:24:34.603221Z",
     "shell.execute_reply": "2024-06-20T06:24:34.602062Z"
    },
    "papermill": {
     "duration": 0.026923,
     "end_time": "2024-06-20T06:24:34.605524",
     "exception": false,
     "start_time": "2024-06-20T06:24:34.578601",
     "status": "completed"
    },
    "tags": []
   },
   "outputs": [],
   "source": [
    "# import joblib\n",
    "# #model saving\n",
    "# joblib.dump(best_rf, 'best_rf_model.pkl')"
   ]
  }
 ],
 "metadata": {
  "kaggle": {
   "accelerator": "none",
   "dataSources": [
    {
     "datasetId": 434238,
     "sourceId": 2654038,
     "sourceType": "datasetVersion"
    }
   ],
   "dockerImageVersionId": 30732,
   "isGpuEnabled": false,
   "isInternetEnabled": true,
   "language": "python",
   "sourceType": "notebook"
  },
  "kernelspec": {
   "display_name": "Python 3",
   "language": "python",
   "name": "python3"
  },
  "language_info": {
   "codemirror_mode": {
    "name": "ipython",
    "version": 3
   },
   "file_extension": ".py",
   "mimetype": "text/x-python",
   "name": "python",
   "nbconvert_exporter": "python",
   "pygments_lexer": "ipython3",
   "version": "3.10.13"
  },
  "papermill": {
   "default_parameters": {},
   "duration": 125.946626,
   "end_time": "2024-06-20T06:24:37.328728",
   "environment_variables": {},
   "exception": null,
   "input_path": "__notebook__.ipynb",
   "output_path": "__notebook__.ipynb",
   "parameters": {},
   "start_time": "2024-06-20T06:22:31.382102",
   "version": "2.5.0"
  }
 },
 "nbformat": 4,
 "nbformat_minor": 5
}
